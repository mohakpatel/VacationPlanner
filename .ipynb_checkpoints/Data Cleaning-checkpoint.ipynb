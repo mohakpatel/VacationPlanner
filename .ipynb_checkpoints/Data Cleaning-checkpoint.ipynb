{
 "cells": [
  {
   "cell_type": "markdown",
   "metadata": {},
   "source": [
    "# Cleaning Airbnb data for Denver\n",
    "\n",
    "Source of data: http://insideairbnb.com/get-the-data.html"
   ]
  },
  {
   "cell_type": "code",
   "execution_count": 16,
   "metadata": {},
   "outputs": [],
   "source": [
    "import numpy as np\n",
    "import pandas as pd\n",
    "import seaborn as sns\n",
    "import matplotlib.pyplot as plt"
   ]
  },
  {
   "cell_type": "markdown",
   "metadata": {},
   "source": [
    "## Listing Data"
   ]
  },
  {
   "cell_type": "code",
   "execution_count": 17,
   "metadata": {},
   "outputs": [
    {
     "name": "stdout",
     "output_type": "stream",
     "text": [
      "Number of entries: 4984\n",
      "Number of columns: 96\n",
      "The columns are:\n"
     ]
    },
    {
     "data": {
      "text/plain": [
       "Index(['id', 'listing_url', 'scrape_id', 'last_scraped', 'name', 'summary',\n",
       "       'space', 'description', 'experiences_offered', 'neighborhood_overview',\n",
       "       'notes', 'transit', 'access', 'interaction', 'house_rules',\n",
       "       'thumbnail_url', 'medium_url', 'picture_url', 'xl_picture_url',\n",
       "       'host_id', 'host_url', 'host_name', 'host_since', 'host_location',\n",
       "       'host_about', 'host_response_time', 'host_response_rate',\n",
       "       'host_acceptance_rate', 'host_is_superhost', 'host_thumbnail_url',\n",
       "       'host_picture_url', 'host_neighbourhood', 'host_listings_count',\n",
       "       'host_total_listings_count', 'host_verifications',\n",
       "       'host_has_profile_pic', 'host_identity_verified', 'street',\n",
       "       'neighbourhood', 'neighbourhood_cleansed',\n",
       "       'neighbourhood_group_cleansed', 'city', 'state', 'zipcode', 'market',\n",
       "       'smart_location', 'country_code', 'country', 'latitude', 'longitude',\n",
       "       'is_location_exact', 'property_type', 'room_type', 'accommodates',\n",
       "       'bathrooms', 'bedrooms', 'beds', 'bed_type', 'amenities', 'square_feet',\n",
       "       'price', 'weekly_price', 'monthly_price', 'security_deposit',\n",
       "       'cleaning_fee', 'guests_included', 'extra_people', 'minimum_nights',\n",
       "       'maximum_nights', 'calendar_updated', 'has_availability',\n",
       "       'availability_30', 'availability_60', 'availability_90',\n",
       "       'availability_365', 'calendar_last_scraped', 'number_of_reviews',\n",
       "       'first_review', 'last_review', 'review_scores_rating',\n",
       "       'review_scores_accuracy', 'review_scores_cleanliness',\n",
       "       'review_scores_checkin', 'review_scores_communication',\n",
       "       'review_scores_location', 'review_scores_value', 'requires_license',\n",
       "       'license', 'jurisdiction_names', 'instant_bookable',\n",
       "       'is_business_travel_ready', 'cancellation_policy',\n",
       "       'require_guest_profile_picture', 'require_guest_phone_verification',\n",
       "       'calculated_host_listings_count', 'reviews_per_month'],\n",
       "      dtype='object')"
      ]
     },
     "execution_count": 17,
     "metadata": {},
     "output_type": "execute_result"
    }
   ],
   "source": [
    "file_listing = '../../Data/VacationPlanner/listings.csv.gz'\n",
    "listing = pd.read_csv(file_listing)\n",
    "print('Number of entries: {:d}'.format(listing.shape[0]))\n",
    "print('Number of columns: {:d}'.format(listing.shape[1]))\n",
    "print('The columns are:')\n",
    "listing.columns"
   ]
  },
  {
   "cell_type": "markdown",
   "metadata": {},
   "source": [
    "#### Columns of interest:\n",
    "\n",
    "There are too many columns in the original data set, which are not relevant to the task. So I trim the dataset to the interesting columns that I care about. \n",
    "\n",
    "\n"
   ]
  },
  {
   "cell_type": "code",
   "execution_count": 18,
   "metadata": {},
   "outputs": [
    {
     "data": {
      "text/html": [
       "<div>\n",
       "<style scoped>\n",
       "    .dataframe tbody tr th:only-of-type {\n",
       "        vertical-align: middle;\n",
       "    }\n",
       "\n",
       "    .dataframe tbody tr th {\n",
       "        vertical-align: top;\n",
       "    }\n",
       "\n",
       "    .dataframe thead th {\n",
       "        text-align: right;\n",
       "    }\n",
       "</style>\n",
       "<table border=\"1\" class=\"dataframe\">\n",
       "  <thead>\n",
       "    <tr style=\"text-align: right;\">\n",
       "      <th></th>\n",
       "      <th>id</th>\n",
       "      <th>host_id</th>\n",
       "      <th>host_is_superhost</th>\n",
       "      <th>neighbourhood_cleansed</th>\n",
       "      <th>zipcode</th>\n",
       "      <th>latitude</th>\n",
       "      <th>longitude</th>\n",
       "      <th>is_location_exact</th>\n",
       "      <th>room_type</th>\n",
       "      <th>accommodates</th>\n",
       "      <th>bathrooms</th>\n",
       "      <th>beds</th>\n",
       "      <th>price</th>\n",
       "      <th>cleaning_fee</th>\n",
       "      <th>review_scores_rating</th>\n",
       "      <th>number_of_reviews</th>\n",
       "    </tr>\n",
       "  </thead>\n",
       "  <tbody>\n",
       "    <tr>\n",
       "      <th>0</th>\n",
       "      <td>360</td>\n",
       "      <td>666</td>\n",
       "      <td>t</td>\n",
       "      <td>Highland</td>\n",
       "      <td>80211.0</td>\n",
       "      <td>39.767033</td>\n",
       "      <td>-105.002564</td>\n",
       "      <td>t</td>\n",
       "      <td>Entire home/apt</td>\n",
       "      <td>5</td>\n",
       "      <td>1.0</td>\n",
       "      <td>2.0</td>\n",
       "      <td>$140.00</td>\n",
       "      <td>$35.00</td>\n",
       "      <td>100.0</td>\n",
       "      <td>3</td>\n",
       "    </tr>\n",
       "    <tr>\n",
       "      <th>1</th>\n",
       "      <td>590</td>\n",
       "      <td>933</td>\n",
       "      <td>t</td>\n",
       "      <td>North Park Hill</td>\n",
       "      <td>80207.0</td>\n",
       "      <td>39.753609</td>\n",
       "      <td>-104.912373</td>\n",
       "      <td>t</td>\n",
       "      <td>Private room</td>\n",
       "      <td>3</td>\n",
       "      <td>1.0</td>\n",
       "      <td>1.0</td>\n",
       "      <td>$61.00</td>\n",
       "      <td>$10.00</td>\n",
       "      <td>96.0</td>\n",
       "      <td>540</td>\n",
       "    </tr>\n",
       "    <tr>\n",
       "      <th>2</th>\n",
       "      <td>592</td>\n",
       "      <td>933</td>\n",
       "      <td>t</td>\n",
       "      <td>North Park Hill</td>\n",
       "      <td>80207.0</td>\n",
       "      <td>39.754380</td>\n",
       "      <td>-104.911557</td>\n",
       "      <td>t</td>\n",
       "      <td>Private room</td>\n",
       "      <td>2</td>\n",
       "      <td>1.0</td>\n",
       "      <td>1.0</td>\n",
       "      <td>$42.00</td>\n",
       "      <td>$10.00</td>\n",
       "      <td>97.0</td>\n",
       "      <td>142</td>\n",
       "    </tr>\n",
       "    <tr>\n",
       "      <th>3</th>\n",
       "      <td>686</td>\n",
       "      <td>990</td>\n",
       "      <td>t</td>\n",
       "      <td>North Capitol Hill</td>\n",
       "      <td>80203.0</td>\n",
       "      <td>39.745030</td>\n",
       "      <td>-104.977564</td>\n",
       "      <td>t</td>\n",
       "      <td>Private room</td>\n",
       "      <td>2</td>\n",
       "      <td>2.0</td>\n",
       "      <td>1.0</td>\n",
       "      <td>$70.00</td>\n",
       "      <td>$10.00</td>\n",
       "      <td>95.0</td>\n",
       "      <td>232</td>\n",
       "    </tr>\n",
       "    <tr>\n",
       "      <th>4</th>\n",
       "      <td>1940</td>\n",
       "      <td>2150</td>\n",
       "      <td>t</td>\n",
       "      <td>Baker</td>\n",
       "      <td>80223.0</td>\n",
       "      <td>39.719810</td>\n",
       "      <td>-104.996487</td>\n",
       "      <td>t</td>\n",
       "      <td>Entire home/apt</td>\n",
       "      <td>2</td>\n",
       "      <td>1.0</td>\n",
       "      <td>1.0</td>\n",
       "      <td>$95.00</td>\n",
       "      <td>$75.00</td>\n",
       "      <td>99.0</td>\n",
       "      <td>21</td>\n",
       "    </tr>\n",
       "  </tbody>\n",
       "</table>\n",
       "</div>"
      ],
      "text/plain": [
       "     id  host_id host_is_superhost neighbourhood_cleansed  zipcode   latitude  \\\n",
       "0   360      666                 t               Highland  80211.0  39.767033   \n",
       "1   590      933                 t        North Park Hill  80207.0  39.753609   \n",
       "2   592      933                 t        North Park Hill  80207.0  39.754380   \n",
       "3   686      990                 t     North Capitol Hill  80203.0  39.745030   \n",
       "4  1940     2150                 t                  Baker  80223.0  39.719810   \n",
       "\n",
       "    longitude is_location_exact        room_type  accommodates  bathrooms  \\\n",
       "0 -105.002564                 t  Entire home/apt             5        1.0   \n",
       "1 -104.912373                 t     Private room             3        1.0   \n",
       "2 -104.911557                 t     Private room             2        1.0   \n",
       "3 -104.977564                 t     Private room             2        2.0   \n",
       "4 -104.996487                 t  Entire home/apt             2        1.0   \n",
       "\n",
       "   beds    price cleaning_fee  review_scores_rating  number_of_reviews  \n",
       "0   2.0  $140.00       $35.00                 100.0                  3  \n",
       "1   1.0   $61.00       $10.00                  96.0                540  \n",
       "2   1.0   $42.00       $10.00                  97.0                142  \n",
       "3   1.0   $70.00       $10.00                  95.0                232  \n",
       "4   1.0   $95.00       $75.00                  99.0                 21  "
      ]
     },
     "execution_count": 18,
     "metadata": {},
     "output_type": "execute_result"
    }
   ],
   "source": [
    "columns = ['id', 'host_id', 'host_is_superhost', 'neighbourhood_cleansed', \n",
    "           'zipcode', 'latitude', 'longitude', 'is_location_exact', 'room_type', \n",
    "           'accommodates', 'bathrooms', 'beds', 'price', 'cleaning_fee', \n",
    "           'review_scores_rating', 'number_of_reviews']\n",
    "listing = listing[columns]\n",
    "\n",
    "# Brief look at the data\n",
    "listing.head()"
   ]
  },
  {
   "cell_type": "code",
   "execution_count": 19,
   "metadata": {},
   "outputs": [
    {
     "name": "stdout",
     "output_type": "stream",
     "text": [
      "<class 'pandas.core.frame.DataFrame'>\n",
      "RangeIndex: 4984 entries, 0 to 4983\n",
      "Data columns (total 16 columns):\n",
      "id                        4984 non-null int64\n",
      "host_id                   4984 non-null int64\n",
      "host_is_superhost         4984 non-null object\n",
      "neighbourhood_cleansed    4984 non-null object\n",
      "zipcode                   4916 non-null float64\n",
      "latitude                  4984 non-null float64\n",
      "longitude                 4984 non-null float64\n",
      "is_location_exact         4984 non-null object\n",
      "room_type                 4984 non-null object\n",
      "accommodates              4984 non-null int64\n",
      "bathrooms                 4981 non-null float64\n",
      "beds                      4982 non-null float64\n",
      "price                     4984 non-null object\n",
      "cleaning_fee              4350 non-null object\n",
      "review_scores_rating      4338 non-null float64\n",
      "number_of_reviews         4984 non-null int64\n",
      "dtypes: float64(6), int64(4), object(6)\n",
      "memory usage: 623.1+ KB\n"
     ]
    }
   ],
   "source": [
    "# Columns types\n",
    "listing.info()"
   ]
  },
  {
   "cell_type": "markdown",
   "metadata": {},
   "source": [
    "### Missing entries\n",
    "\n",
    "Count the number of missing entry in each column"
   ]
  },
  {
   "cell_type": "code",
   "execution_count": 20,
   "metadata": {},
   "outputs": [
    {
     "name": "stdout",
     "output_type": "stream",
     "text": [
      "Number of entries is 4984 \n"
     ]
    },
    {
     "data": {
      "text/plain": [
       "id                          0\n",
       "host_id                     0\n",
       "host_is_superhost           0\n",
       "neighbourhood_cleansed      0\n",
       "zipcode                    68\n",
       "latitude                    0\n",
       "longitude                   0\n",
       "is_location_exact           0\n",
       "room_type                   0\n",
       "accommodates                0\n",
       "bathrooms                   3\n",
       "beds                        2\n",
       "price                       0\n",
       "cleaning_fee              634\n",
       "review_scores_rating      646\n",
       "number_of_reviews           0\n",
       "dtype: int64"
      ]
     },
     "execution_count": 20,
     "metadata": {},
     "output_type": "execute_result"
    }
   ],
   "source": [
    "# No of missing entries in each columns\n",
    "print('Number of entries is {0:d} '.format(listing.shape[0]))\n",
    "\n",
    "listing.isnull().sum()"
   ]
  },
  {
   "cell_type": "markdown",
   "metadata": {},
   "source": [
    "### Data Cleaning\n",
    "\n",
    "1. Drop the column zipcode and is_location_exact. Location information from latitude, longitude and neighbourhood_cleansed should be sufficient for the task.\n",
    "2. Drop entries with missing values in bathrooms and beds.\n",
    "3. Replane Nan in cleaning_fee to 0\n",
    "4. Replace host_is_superhost values with t:1 and f:0\n",
    "5. Format price and cleaning_fee to float. \n",
    "6. Set id as dataframe index\n",
    "7. Remove luxury listing (price >9998)"
   ]
  },
  {
   "cell_type": "code",
   "execution_count": 21,
   "metadata": {},
   "outputs": [
    {
     "name": "stdout",
     "output_type": "stream",
     "text": [
      "Number of entries dropped: 13\n",
      "Number of remaining entries: 4971\n"
     ]
    }
   ],
   "source": [
    "# Drop zipcode and is_location_exact column\n",
    "listing = listing.drop(columns=['zipcode', 'is_location_exact'])\n",
    "\n",
    "# Drop entries with missing values in bathrooms and beds\n",
    "og_len = listing.shape[0]\n",
    "listing = listing.dropna(how='any', subset=['bathrooms', 'beds'])\n",
    "\n",
    "\n",
    "# Replace NaN in cleaning price\n",
    "listing['cleaning_fee'] = listing['cleaning_fee'].fillna('0')\n",
    "\n",
    "# Make host_is_superhost binary\n",
    "listing = listing.replace({'host_is_superhost':{'t':1, 'f':0}})\n",
    "\n",
    "# Format price and cleaning_free\n",
    "listing[['price', 'cleaning_fee']] = listing[['price', 'cleaning_fee']].replace(\n",
    "                                    '[\\$,]', '', regex=True).astype(float)\n",
    "\n",
    "# Remove luxury entries\n",
    "listing = listing[listing['price']<9998]\n",
    "print('Number of entries dropped: {0:d}'.format(og_len - listing.shape[0]))\n",
    "print('Number of remaining entries: {0:d}'.format(listing.shape[0]))\n",
    "\n",
    "# Set id as index\n",
    "listing = listing.set_index('id')"
   ]
  },
  {
   "cell_type": "markdown",
   "metadata": {},
   "source": [
    "## Calendar data"
   ]
  },
  {
   "cell_type": "code",
   "execution_count": 22,
   "metadata": {},
   "outputs": [
    {
     "name": "stdout",
     "output_type": "stream",
     "text": [
      "Number of entries: 1819160\n",
      "Number of columns: 4\n",
      "The columns are:\n"
     ]
    },
    {
     "data": {
      "text/html": [
       "<div>\n",
       "<style scoped>\n",
       "    .dataframe tbody tr th:only-of-type {\n",
       "        vertical-align: middle;\n",
       "    }\n",
       "\n",
       "    .dataframe tbody tr th {\n",
       "        vertical-align: top;\n",
       "    }\n",
       "\n",
       "    .dataframe thead th {\n",
       "        text-align: right;\n",
       "    }\n",
       "</style>\n",
       "<table border=\"1\" class=\"dataframe\">\n",
       "  <thead>\n",
       "    <tr style=\"text-align: right;\">\n",
       "      <th></th>\n",
       "      <th>listing_id</th>\n",
       "      <th>date</th>\n",
       "      <th>available</th>\n",
       "      <th>price</th>\n",
       "    </tr>\n",
       "  </thead>\n",
       "  <tbody>\n",
       "    <tr>\n",
       "      <th>0</th>\n",
       "      <td>360</td>\n",
       "      <td>2019-08-22</td>\n",
       "      <td>t</td>\n",
       "      <td>$149.00</td>\n",
       "    </tr>\n",
       "    <tr>\n",
       "      <th>1</th>\n",
       "      <td>360</td>\n",
       "      <td>2019-08-21</td>\n",
       "      <td>t</td>\n",
       "      <td>$149.00</td>\n",
       "    </tr>\n",
       "    <tr>\n",
       "      <th>2</th>\n",
       "      <td>360</td>\n",
       "      <td>2019-08-20</td>\n",
       "      <td>t</td>\n",
       "      <td>$149.00</td>\n",
       "    </tr>\n",
       "    <tr>\n",
       "      <th>3</th>\n",
       "      <td>360</td>\n",
       "      <td>2019-08-19</td>\n",
       "      <td>t</td>\n",
       "      <td>$149.00</td>\n",
       "    </tr>\n",
       "    <tr>\n",
       "      <th>4</th>\n",
       "      <td>360</td>\n",
       "      <td>2019-08-18</td>\n",
       "      <td>t</td>\n",
       "      <td>$149.00</td>\n",
       "    </tr>\n",
       "  </tbody>\n",
       "</table>\n",
       "</div>"
      ],
      "text/plain": [
       "   listing_id        date available    price\n",
       "0         360  2019-08-22         t  $149.00\n",
       "1         360  2019-08-21         t  $149.00\n",
       "2         360  2019-08-20         t  $149.00\n",
       "3         360  2019-08-19         t  $149.00\n",
       "4         360  2019-08-18         t  $149.00"
      ]
     },
     "execution_count": 22,
     "metadata": {},
     "output_type": "execute_result"
    }
   ],
   "source": [
    "file_calendar = '../../Data/VacationPlanner/calendar.csv.gz'\n",
    "calendar = pd.read_csv(file_calendar)\n",
    "print('Number of entries: {:d}'.format(calendar.shape[0]))\n",
    "print('Number of columns: {:d}'.format(calendar.shape[1]))\n",
    "print('The columns are:')\n",
    "calendar.head()"
   ]
  },
  {
   "cell_type": "markdown",
   "metadata": {},
   "source": [
    "### Missing entries"
   ]
  },
  {
   "cell_type": "code",
   "execution_count": 23,
   "metadata": {},
   "outputs": [
    {
     "data": {
      "text/plain": [
       "listing_id          0\n",
       "date                0\n",
       "available           0\n",
       "price         1112781\n",
       "dtype: int64"
      ]
     },
     "execution_count": 23,
     "metadata": {},
     "output_type": "execute_result"
    }
   ],
   "source": [
    "calendar.isnull().sum()"
   ]
  },
  {
   "cell_type": "markdown",
   "metadata": {},
   "source": [
    "### Data cleaning\n",
    "\n",
    "1. Drop available. Available has t or f values. When available == 'f', price shows a NaN value. So available is redundant\n",
    "2. Drop all entries with NaN\n",
    "3. Convert price to numeric format\n",
    "4. Convert data to numpy date time format\n",
    "5. Rename listing_id to id"
   ]
  },
  {
   "cell_type": "code",
   "execution_count": 24,
   "metadata": {},
   "outputs": [
    {
     "name": "stdout",
     "output_type": "stream",
     "text": [
      "Number of entries dropped: 1112781\n",
      "Number of remaining entries: 4971\n",
      "<class 'pandas.core.frame.DataFrame'>\n",
      "Index: 706379 entries, 0 to 1819151\n",
      "Data columns (total 3 columns):\n",
      "id       706379 non-null int64\n",
      "date     706379 non-null datetime64[ns]\n",
      "price    706379 non-null float64\n",
      "dtypes: datetime64[ns](1), float64(1), int64(1)\n",
      "memory usage: 21.6+ MB\n"
     ]
    }
   ],
   "source": [
    "# Drop available\n",
    "calendar = calendar.drop(columns=['available'])\n",
    "\n",
    "# Drop NaN entries\n",
    "og_len = calendar.shape[0]\n",
    "calendar = calendar.dropna(how='any', subset=['price'])\n",
    "print('Number of entries dropped: {0:d}'.format(og_len - calendar.shape[0]))\n",
    "print('Number of remaining entries: {0:d}'.format(listing.shape[0]))\n",
    "\n",
    "# Format price and cleaning_free\n",
    "calendar['price'] = calendar['price'].replace('[\\$,]', '', regex=True).astype(float)\n",
    "\n",
    "# Convert date-time format\n",
    "calendar['date'] = pd.to_datetime(calendar['date'], yearfirst=True)\n",
    "\n",
    "# Rename \n",
    "calendar = calendar.rename(index=str, columns={'listing_id': 'id'})\n",
    "calendar.info()"
   ]
  },
  {
   "cell_type": "code",
   "execution_count": 25,
   "metadata": {},
   "outputs": [
    {
     "data": {
      "text/html": [
       "<div>\n",
       "<style scoped>\n",
       "    .dataframe tbody tr th:only-of-type {\n",
       "        vertical-align: middle;\n",
       "    }\n",
       "\n",
       "    .dataframe tbody tr th {\n",
       "        vertical-align: top;\n",
       "    }\n",
       "\n",
       "    .dataframe thead th {\n",
       "        text-align: right;\n",
       "    }\n",
       "</style>\n",
       "<table border=\"1\" class=\"dataframe\">\n",
       "  <thead>\n",
       "    <tr style=\"text-align: right;\">\n",
       "      <th></th>\n",
       "      <th>date</th>\n",
       "      <th>counts</th>\n",
       "    </tr>\n",
       "  </thead>\n",
       "  <tbody>\n",
       "    <tr>\n",
       "      <th>0</th>\n",
       "      <td>2018-08-27</td>\n",
       "      <td>1093</td>\n",
       "    </tr>\n",
       "    <tr>\n",
       "      <th>1</th>\n",
       "      <td>2018-08-28</td>\n",
       "      <td>1315</td>\n",
       "    </tr>\n",
       "    <tr>\n",
       "      <th>2</th>\n",
       "      <td>2018-08-29</td>\n",
       "      <td>1305</td>\n",
       "    </tr>\n",
       "    <tr>\n",
       "      <th>3</th>\n",
       "      <td>2018-08-30</td>\n",
       "      <td>1006</td>\n",
       "    </tr>\n",
       "    <tr>\n",
       "      <th>4</th>\n",
       "      <td>2018-08-31</td>\n",
       "      <td>635</td>\n",
       "    </tr>\n",
       "  </tbody>\n",
       "</table>\n",
       "</div>"
      ],
      "text/plain": [
       "        date  counts\n",
       "0 2018-08-27    1093\n",
       "1 2018-08-28    1315\n",
       "2 2018-08-29    1305\n",
       "3 2018-08-30    1006\n",
       "4 2018-08-31     635"
      ]
     },
     "execution_count": 25,
     "metadata": {},
     "output_type": "execute_result"
    }
   ],
   "source": [
    "calendar.groupby(['date']).size().reset_index(name='counts').head(5)"
   ]
  },
  {
   "cell_type": "code",
   "execution_count": 26,
   "metadata": {},
   "outputs": [],
   "source": [
    "median_price = calendar.groupby('id')['price'].median().reset_index(name='price')\n",
    "median_price = median_price.set_index('id')"
   ]
  },
  {
   "cell_type": "markdown",
   "metadata": {},
   "source": [
    "## Data Exploration\n",
    "\n",
    "Trying to look at some general trends and structure in the data. While also gaining some insight into the data"
   ]
  },
  {
   "cell_type": "markdown",
   "metadata": {},
   "source": [
    "##### Number of apartments vs accomodates\n",
    "\n",
    "We can observe that apartments with accomodates of multiple of two are more popular. I would guess that this is because most listing would use a standard bed which accommodates two people. So the number of accommodates goes along with it. And fewer apartments have bed/couch for single person. "
   ]
  },
  {
   "cell_type": "code",
   "execution_count": 27,
   "metadata": {},
   "outputs": [
    {
     "data": {
      "text/plain": [
       "<matplotlib.axes._subplots.AxesSubplot at 0x7f0fff1df550>"
      ]
     },
     "execution_count": 27,
     "metadata": {},
     "output_type": "execute_result"
    },
    {
     "data": {
      "image/png": "[encoded data removed]",
      "text/plain": [
       "<Figure size 432x288 with 1 Axes>"
      ]
     },
     "metadata": {
      "needs_background": "light"
     },
     "output_type": "display_data"
    }
   ],
   "source": [
    "sns.countplot(x='accommodates', data=listing)\n"
   ]
  },
  {
   "cell_type": "code",
   "execution_count": 37,
   "metadata": {},
   "outputs": [
    {
     "ename": "TypeError",
     "evalue": "cannot compare a dtyped [float64] array with a scalar of type [bool]",
     "output_type": "error",
     "traceback": [
      "\u001b[0;31m---------------------------------------------------------------------------\u001b[0m",
      "\u001b[0;31mTypeError\u001b[0m                                 Traceback (most recent call last)",
      "\u001b[0;32m~/anaconda3/lib/python3.6/site-packages/pandas/core/ops.py\u001b[0m in \u001b[0;36mna_op\u001b[0;34m(x, y)\u001b[0m\n\u001b[1;32m   1303\u001b[0m         \u001b[0;32mtry\u001b[0m\u001b[0;34m:\u001b[0m\u001b[0;34m\u001b[0m\u001b[0m\n\u001b[0;32m-> 1304\u001b[0;31m             \u001b[0mresult\u001b[0m \u001b[0;34m=\u001b[0m \u001b[0mop\u001b[0m\u001b[0;34m(\u001b[0m\u001b[0mx\u001b[0m\u001b[0;34m,\u001b[0m \u001b[0my\u001b[0m\u001b[0;34m)\u001b[0m\u001b[0;34m\u001b[0m\u001b[0m\n\u001b[0m\u001b[1;32m   1305\u001b[0m         \u001b[0;32mexcept\u001b[0m \u001b[0mTypeError\u001b[0m\u001b[0;34m:\u001b[0m\u001b[0;34m\u001b[0m\u001b[0m\n",
      "\u001b[0;32m~/anaconda3/lib/python3.6/site-packages/pandas/core/ops.py\u001b[0m in \u001b[0;36mrand_\u001b[0;34m(left, right)\u001b[0m\n\u001b[1;32m    148\u001b[0m \u001b[0;32mdef\u001b[0m \u001b[0mrand_\u001b[0m\u001b[0;34m(\u001b[0m\u001b[0mleft\u001b[0m\u001b[0;34m,\u001b[0m \u001b[0mright\u001b[0m\u001b[0;34m)\u001b[0m\u001b[0;34m:\u001b[0m\u001b[0;34m\u001b[0m\u001b[0m\n\u001b[0;32m--> 149\u001b[0;31m     \u001b[0;32mreturn\u001b[0m \u001b[0moperator\u001b[0m\u001b[0;34m.\u001b[0m\u001b[0mand_\u001b[0m\u001b[0;34m(\u001b[0m\u001b[0mright\u001b[0m\u001b[0;34m,\u001b[0m \u001b[0mleft\u001b[0m\u001b[0;34m)\u001b[0m\u001b[0;34m\u001b[0m\u001b[0m\n\u001b[0m\u001b[1;32m    150\u001b[0m \u001b[0;34m\u001b[0m\u001b[0m\n",
      "\u001b[0;31mTypeError\u001b[0m: ufunc 'bitwise_and' not supported for the input types, and the inputs could not be safely coerced to any supported types according to the casting rule ''safe''",
      "\nDuring handling of the above exception, another exception occurred:\n",
      "\u001b[0;31mValueError\u001b[0m                                Traceback (most recent call last)",
      "\u001b[0;32m~/anaconda3/lib/python3.6/site-packages/pandas/core/ops.py\u001b[0m in \u001b[0;36mna_op\u001b[0;34m(x, y)\u001b[0m\n\u001b[1;32m   1320\u001b[0m                 \u001b[0;32mtry\u001b[0m\u001b[0;34m:\u001b[0m\u001b[0;34m\u001b[0m\u001b[0m\n\u001b[0;32m-> 1321\u001b[0;31m                     \u001b[0mresult\u001b[0m \u001b[0;34m=\u001b[0m \u001b[0mlibops\u001b[0m\u001b[0;34m.\u001b[0m\u001b[0mscalar_binop\u001b[0m\u001b[0;34m(\u001b[0m\u001b[0mx\u001b[0m\u001b[0;34m,\u001b[0m \u001b[0my\u001b[0m\u001b[0;34m,\u001b[0m \u001b[0mop\u001b[0m\u001b[0;34m)\u001b[0m\u001b[0;34m\u001b[0m\u001b[0m\n\u001b[0m\u001b[1;32m   1322\u001b[0m                 \u001b[0;32mexcept\u001b[0m\u001b[0;34m:\u001b[0m\u001b[0;34m\u001b[0m\u001b[0m\n",
      "\u001b[0;32mpandas/_libs/ops.pyx\u001b[0m in \u001b[0;36mpandas._libs.ops.scalar_binop\u001b[0;34m()\u001b[0m\n",
      "\u001b[0;31mValueError\u001b[0m: Buffer dtype mismatch, expected 'Python object' but got 'double'",
      "\nDuring handling of the above exception, another exception occurred:\n",
      "\u001b[0;31mTypeError\u001b[0m                                 Traceback (most recent call last)",
      "\u001b[0;32m<ipython-input-37-5d8374eb6b6b>\u001b[0m in \u001b[0;36m<module>\u001b[0;34m()\u001b[0m\n\u001b[0;32m----> 1\u001b[0;31m ax = sns.distplot(listing[listing['accommodates'] == 2 & listing['price']<300]['price'],\n\u001b[0m\u001b[1;32m      2\u001b[0m              bins=30, kde=False, rug=True)\n\u001b[1;32m      3\u001b[0m \u001b[0;31m# ax.set_xlim(0,250)\u001b[0m\u001b[0;34m\u001b[0m\u001b[0;34m\u001b[0m\u001b[0m\n",
      "\u001b[0;32m~/anaconda3/lib/python3.6/site-packages/pandas/core/ops.py\u001b[0m in \u001b[0;36mwrapper\u001b[0;34m(self, other)\u001b[0m\n\u001b[1;32m   1358\u001b[0m                       is_integer_dtype(np.asarray(other)) else fill_bool)\n\u001b[1;32m   1359\u001b[0m \u001b[0;34m\u001b[0m\u001b[0m\n\u001b[0;32m-> 1360\u001b[0;31m             \u001b[0mres_values\u001b[0m \u001b[0;34m=\u001b[0m \u001b[0mna_op\u001b[0m\u001b[0;34m(\u001b[0m\u001b[0mself\u001b[0m\u001b[0;34m.\u001b[0m\u001b[0mvalues\u001b[0m\u001b[0;34m,\u001b[0m \u001b[0mother\u001b[0m\u001b[0;34m)\u001b[0m\u001b[0;34m\u001b[0m\u001b[0m\n\u001b[0m\u001b[1;32m   1361\u001b[0m             \u001b[0munfilled\u001b[0m \u001b[0;34m=\u001b[0m \u001b[0mself\u001b[0m\u001b[0;34m.\u001b[0m\u001b[0m_constructor\u001b[0m\u001b[0;34m(\u001b[0m\u001b[0mres_values\u001b[0m\u001b[0;34m,\u001b[0m \u001b[0mindex\u001b[0m\u001b[0;34m=\u001b[0m\u001b[0mself\u001b[0m\u001b[0;34m.\u001b[0m\u001b[0mindex\u001b[0m\u001b[0;34m)\u001b[0m\u001b[0;34m\u001b[0m\u001b[0m\n\u001b[1;32m   1362\u001b[0m             \u001b[0;32mreturn\u001b[0m \u001b[0mfiller\u001b[0m\u001b[0;34m(\u001b[0m\u001b[0munfilled\u001b[0m\u001b[0;34m)\u001b[0m\u001b[0;34m.\u001b[0m\u001b[0m__finalize__\u001b[0m\u001b[0;34m(\u001b[0m\u001b[0mself\u001b[0m\u001b[0;34m)\u001b[0m\u001b[0;34m\u001b[0m\u001b[0m\n",
      "\u001b[0;32m~/anaconda3/lib/python3.6/site-packages/pandas/core/ops.py\u001b[0m in \u001b[0;36mna_op\u001b[0;34m(x, y)\u001b[0m\n\u001b[1;32m   1324\u001b[0m                                     \u001b[0;34m\"with a scalar of type [{typ}]\"\u001b[0m\u001b[0;34m\u001b[0m\u001b[0m\n\u001b[1;32m   1325\u001b[0m                                     .format(dtype=x.dtype,\n\u001b[0;32m-> 1326\u001b[0;31m                                             typ=type(y).__name__))\n\u001b[0m\u001b[1;32m   1327\u001b[0m \u001b[0;34m\u001b[0m\u001b[0m\n\u001b[1;32m   1328\u001b[0m         \u001b[0;32mreturn\u001b[0m \u001b[0mresult\u001b[0m\u001b[0;34m\u001b[0m\u001b[0m\n",
      "\u001b[0;31mTypeError\u001b[0m: cannot compare a dtyped [float64] array with a scalar of type [bool]"
     ]
    }
   ],
   "source": [
    "ax = sns.distplot(listing[listing['accommodates'] == 2 & listing['price']<300]['price'],\n",
    "             bins=30, kde=False, rug=True)\n",
    "# ax.set_xlim(0,250)"
   ]
  },
  {
   "cell_type": "code",
   "execution_count": 40,
   "metadata": {},
   "outputs": [
    {
     "data": {
      "text/plain": [
       "id\n",
       "360          True\n",
       "590          True\n",
       "592          True\n",
       "686          True\n",
       "1940         True\n",
       "2086         True\n",
       "21745        True\n",
       "21746        True\n",
       "31503        True\n",
       "39405        True\n",
       "41284        True\n",
       "56185       False\n",
       "58598        True\n",
       "59631        True\n",
       "74125        True\n",
       "81540        True\n",
       "90307        True\n",
       "98008        True\n",
       "142683       True\n",
       "172196      False\n",
       "177942       True\n",
       "182353       True\n",
       "192430       True\n",
       "217715       True\n",
       "236207       True\n",
       "242859       True\n",
       "286732       True\n",
       "287392       True\n",
       "327500       True\n",
       "343936      False\n",
       "            ...  \n",
       "27962395     True\n",
       "27962414     True\n",
       "27962912     True\n",
       "27963397     True\n",
       "27964190     True\n",
       "27964276     True\n",
       "27965325     True\n",
       "27978719     True\n",
       "27980482    False\n",
       "27981947     True\n",
       "27984091     True\n",
       "27987870     True\n",
       "27990562     True\n",
       "27992799     True\n",
       "28003000    False\n",
       "28003130     True\n",
       "28004534     True\n",
       "28006110     True\n",
       "28010484    False\n",
       "28010762     True\n",
       "28011375     True\n",
       "28014823     True\n",
       "28024516     True\n",
       "28027135     True\n",
       "28028278     True\n",
       "28028961     True\n",
       "28029877     True\n",
       "28045767     True\n",
       "28051647     True\n",
       "28052525     True\n",
       "Name: price, Length: 4971, dtype: bool"
      ]
     },
     "execution_count": 40,
     "metadata": {},
     "output_type": "execute_result"
    }
   ],
   "source": [
    "listing['price']<300"
   ]
  },
  {
   "cell_type": "code",
   "execution_count": 29,
   "metadata": {},
   "outputs": [
    {
     "data": {
      "text/plain": [
       "id\n",
       "25487102      10.0\n",
       "20466746      10.0\n",
       "27806196      15.0\n",
       "21982186      15.0\n",
       "9445553       18.0\n",
       "9135545       18.0\n",
       "13579869      18.0\n",
       "11250449      19.0\n",
       "14872688      19.0\n",
       "24014283      19.0\n",
       "16208547      19.0\n",
       "20496416      19.0\n",
       "24034673      19.0\n",
       "24224176      19.0\n",
       "24252808      19.0\n",
       "24224042      19.0\n",
       "24233921      19.0\n",
       "20496667      19.0\n",
       "24223925      19.0\n",
       "24252736      19.0\n",
       "24252780      19.0\n",
       "24490571      19.0\n",
       "24223535      19.0\n",
       "24224177      19.0\n",
       "27233505      20.0\n",
       "27557576      20.0\n",
       "6623752       20.0\n",
       "23615021      20.0\n",
       "20949492      20.0\n",
       "25471033      20.0\n",
       "             ...  \n",
       "24058066     800.0\n",
       "12890649     800.0\n",
       "24848902     800.0\n",
       "4350744      875.0\n",
       "23312555     899.0\n",
       "18052024     990.0\n",
       "9944575      995.0\n",
       "18049607     999.0\n",
       "24854686     999.0\n",
       "27699490     999.0\n",
       "17639310     999.0\n",
       "26987056     999.0\n",
       "22064284     999.0\n",
       "14296973     999.0\n",
       "27059603     999.0\n",
       "27980482     999.0\n",
       "27165242     999.0\n",
       "27781713     999.0\n",
       "20426353    1095.0\n",
       "14841000    1100.0\n",
       "25461596    1200.0\n",
       "24575556    1299.0\n",
       "16244480    1500.0\n",
       "19158281    1500.0\n",
       "6990609     1591.0\n",
       "26333386    1650.0\n",
       "26692897    1989.0\n",
       "27694864    2200.0\n",
       "16165257    2200.0\n",
       "15599291    3100.0\n",
       "Name: price, Length: 4971, dtype: float64"
      ]
     },
     "execution_count": 29,
     "metadata": {},
     "output_type": "execute_result"
    }
   ],
   "source": [
    "listing['price'].sort_values()"
   ]
  },
  {
   "cell_type": "code",
   "execution_count": 30,
   "metadata": {},
   "outputs": [
    {
     "data": {
      "text/html": [
       "<div>\n",
       "<style scoped>\n",
       "    .dataframe tbody tr th:only-of-type {\n",
       "        vertical-align: middle;\n",
       "    }\n",
       "\n",
       "    .dataframe tbody tr th {\n",
       "        vertical-align: top;\n",
       "    }\n",
       "\n",
       "    .dataframe thead th {\n",
       "        text-align: right;\n",
       "    }\n",
       "</style>\n",
       "<table border=\"1\" class=\"dataframe\">\n",
       "  <thead>\n",
       "    <tr style=\"text-align: right;\">\n",
       "      <th></th>\n",
       "      <th>host_id</th>\n",
       "      <th>host_is_superhost</th>\n",
       "      <th>neighbourhood_cleansed</th>\n",
       "      <th>latitude</th>\n",
       "      <th>longitude</th>\n",
       "      <th>room_type</th>\n",
       "      <th>accommodates</th>\n",
       "      <th>bathrooms</th>\n",
       "      <th>beds</th>\n",
       "      <th>price</th>\n",
       "      <th>cleaning_fee</th>\n",
       "      <th>review_scores_rating</th>\n",
       "      <th>number_of_reviews</th>\n",
       "    </tr>\n",
       "    <tr>\n",
       "      <th>id</th>\n",
       "      <th></th>\n",
       "      <th></th>\n",
       "      <th></th>\n",
       "      <th></th>\n",
       "      <th></th>\n",
       "      <th></th>\n",
       "      <th></th>\n",
       "      <th></th>\n",
       "      <th></th>\n",
       "      <th></th>\n",
       "      <th></th>\n",
       "      <th></th>\n",
       "      <th></th>\n",
       "    </tr>\n",
       "  </thead>\n",
       "  <tbody>\n",
       "  </tbody>\n",
       "</table>\n",
       "</div>"
      ],
      "text/plain": [
       "Empty DataFrame\n",
       "Columns: [host_id, host_is_superhost, neighbourhood_cleansed, latitude, longitude, room_type, accommodates, bathrooms, beds, price, cleaning_fee, review_scores_rating, number_of_reviews]\n",
       "Index: []"
      ]
     },
     "execution_count": 30,
     "metadata": {},
     "output_type": "execute_result"
    }
   ],
   "source": [
    "listing[listing['price'] == 9999]"
   ]
  },
  {
   "cell_type": "code",
   "execution_count": null,
   "metadata": {},
   "outputs": [],
   "source": []
  }
 ],
 "metadata": {
  "kernelspec": {
   "display_name": "Python 3",
   "language": "python",
   "name": "python3"
  },
  "language_info": {
   "codemirror_mode": {
    "name": "ipython",
    "version": 3
   },
   "file_extension": ".py",
   "mimetype": "text/x-python",
   "name": "python",
   "nbconvert_exporter": "python",
   "pygments_lexer": "ipython3",
   "version": "3.6.6"
  }
 },
 "nbformat": 4,
 "nbformat_minor": 2
}
