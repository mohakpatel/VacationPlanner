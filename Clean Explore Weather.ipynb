{
 "cells": [
  {
   "cell_type": "markdown",
   "metadata": {},
   "source": [
    "# Clean data and explore weather \n",
    "\n",
    "Data source: \n",
    "\n",
    "Looking in region Vail, but there are many places around it so the weather should be pretty much the same"
   ]
  },
  {
   "cell_type": "code",
   "execution_count": 40,
   "metadata": {},
   "outputs": [],
   "source": [
    "import numpy as np\n",
    "import pandas as pd\n",
    "import matplotlib.pyplot as plt\n",
    "import seaborn as sns\n",
    "# import warnings; warnings.simplefilter('ignore')\n",
    "\n",
    "%matplotlib inline"
   ]
  },
  {
   "cell_type": "markdown",
   "metadata": {},
   "source": [
    "### Weather data requested\n",
    "\n",
    "\n",
    "Requested weather data :  \n",
    "SNOW - Snowfall  \n",
    "TMAX - Maximum temperature  \n",
    "TAVG - Average Temperature  \n",
    "TMIN - Minimum temperature  \n",
    "PRCP - Precipitation  \n",
    "TOBS - Temperature at the time of observation  \n",
    "SNWD - Snow depth  "
   ]
  },
  {
   "cell_type": "code",
   "execution_count": 41,
   "metadata": {},
   "outputs": [
    {
     "data": {
      "text/html": [
       "<div>\n",
       "<style scoped>\n",
       "    .dataframe tbody tr th:only-of-type {\n",
       "        vertical-align: middle;\n",
       "    }\n",
       "\n",
       "    .dataframe tbody tr th {\n",
       "        vertical-align: top;\n",
       "    }\n",
       "\n",
       "    .dataframe thead th {\n",
       "        text-align: right;\n",
       "    }\n",
       "</style>\n",
       "<table border=\"1\" class=\"dataframe\">\n",
       "  <thead>\n",
       "    <tr style=\"text-align: right;\">\n",
       "      <th></th>\n",
       "      <th>STATION</th>\n",
       "      <th>NAME</th>\n",
       "      <th>LATITUDE</th>\n",
       "      <th>LONGITUDE</th>\n",
       "      <th>ELEVATION</th>\n",
       "      <th>DATE</th>\n",
       "      <th>MDPR</th>\n",
       "      <th>MDSF</th>\n",
       "      <th>PRCP</th>\n",
       "      <th>SNOW</th>\n",
       "      <th>SNWD</th>\n",
       "      <th>TAVG</th>\n",
       "      <th>TMAX</th>\n",
       "      <th>TMIN</th>\n",
       "      <th>TOBS</th>\n",
       "      <th>WESD</th>\n",
       "      <th>WESF</th>\n",
       "    </tr>\n",
       "  </thead>\n",
       "  <tbody>\n",
       "    <tr>\n",
       "      <th>0</th>\n",
       "      <td>USR0000CDOW</td>\n",
       "      <td>DOWD JUNCTION COLORADO, CO US</td>\n",
       "      <td>39.6269</td>\n",
       "      <td>-106.4517</td>\n",
       "      <td>2742.6</td>\n",
       "      <td>2008-10-01</td>\n",
       "      <td>NaN</td>\n",
       "      <td>NaN</td>\n",
       "      <td>NaN</td>\n",
       "      <td>NaN</td>\n",
       "      <td>NaN</td>\n",
       "      <td>53.0</td>\n",
       "      <td>72.0</td>\n",
       "      <td>37.0</td>\n",
       "      <td>NaN</td>\n",
       "      <td>NaN</td>\n",
       "      <td>NaN</td>\n",
       "    </tr>\n",
       "    <tr>\n",
       "      <th>1</th>\n",
       "      <td>USR0000CDOW</td>\n",
       "      <td>DOWD JUNCTION COLORADO, CO US</td>\n",
       "      <td>39.6269</td>\n",
       "      <td>-106.4517</td>\n",
       "      <td>2742.6</td>\n",
       "      <td>2008-10-02</td>\n",
       "      <td>NaN</td>\n",
       "      <td>NaN</td>\n",
       "      <td>NaN</td>\n",
       "      <td>NaN</td>\n",
       "      <td>NaN</td>\n",
       "      <td>48.0</td>\n",
       "      <td>64.0</td>\n",
       "      <td>36.0</td>\n",
       "      <td>NaN</td>\n",
       "      <td>NaN</td>\n",
       "      <td>NaN</td>\n",
       "    </tr>\n",
       "    <tr>\n",
       "      <th>2</th>\n",
       "      <td>USR0000CDOW</td>\n",
       "      <td>DOWD JUNCTION COLORADO, CO US</td>\n",
       "      <td>39.6269</td>\n",
       "      <td>-106.4517</td>\n",
       "      <td>2742.6</td>\n",
       "      <td>2008-10-03</td>\n",
       "      <td>NaN</td>\n",
       "      <td>NaN</td>\n",
       "      <td>NaN</td>\n",
       "      <td>NaN</td>\n",
       "      <td>NaN</td>\n",
       "      <td>45.0</td>\n",
       "      <td>64.0</td>\n",
       "      <td>33.0</td>\n",
       "      <td>NaN</td>\n",
       "      <td>NaN</td>\n",
       "      <td>NaN</td>\n",
       "    </tr>\n",
       "    <tr>\n",
       "      <th>3</th>\n",
       "      <td>USR0000CDOW</td>\n",
       "      <td>DOWD JUNCTION COLORADO, CO US</td>\n",
       "      <td>39.6269</td>\n",
       "      <td>-106.4517</td>\n",
       "      <td>2742.6</td>\n",
       "      <td>2008-10-04</td>\n",
       "      <td>NaN</td>\n",
       "      <td>NaN</td>\n",
       "      <td>NaN</td>\n",
       "      <td>NaN</td>\n",
       "      <td>NaN</td>\n",
       "      <td>43.0</td>\n",
       "      <td>53.0</td>\n",
       "      <td>38.0</td>\n",
       "      <td>NaN</td>\n",
       "      <td>NaN</td>\n",
       "      <td>NaN</td>\n",
       "    </tr>\n",
       "    <tr>\n",
       "      <th>4</th>\n",
       "      <td>USR0000CDOW</td>\n",
       "      <td>DOWD JUNCTION COLORADO, CO US</td>\n",
       "      <td>39.6269</td>\n",
       "      <td>-106.4517</td>\n",
       "      <td>2742.6</td>\n",
       "      <td>2008-10-05</td>\n",
       "      <td>NaN</td>\n",
       "      <td>NaN</td>\n",
       "      <td>NaN</td>\n",
       "      <td>NaN</td>\n",
       "      <td>NaN</td>\n",
       "      <td>39.0</td>\n",
       "      <td>52.0</td>\n",
       "      <td>32.0</td>\n",
       "      <td>NaN</td>\n",
       "      <td>NaN</td>\n",
       "      <td>NaN</td>\n",
       "    </tr>\n",
       "  </tbody>\n",
       "</table>\n",
       "</div>"
      ],
      "text/plain": [
       "       STATION                           NAME  LATITUDE  LONGITUDE  ELEVATION  \\\n",
       "0  USR0000CDOW  DOWD JUNCTION COLORADO, CO US   39.6269  -106.4517     2742.6   \n",
       "1  USR0000CDOW  DOWD JUNCTION COLORADO, CO US   39.6269  -106.4517     2742.6   \n",
       "2  USR0000CDOW  DOWD JUNCTION COLORADO, CO US   39.6269  -106.4517     2742.6   \n",
       "3  USR0000CDOW  DOWD JUNCTION COLORADO, CO US   39.6269  -106.4517     2742.6   \n",
       "4  USR0000CDOW  DOWD JUNCTION COLORADO, CO US   39.6269  -106.4517     2742.6   \n",
       "\n",
       "         DATE  MDPR  MDSF  PRCP  SNOW  SNWD  TAVG  TMAX  TMIN  TOBS  WESD  \\\n",
       "0  2008-10-01   NaN   NaN   NaN   NaN   NaN  53.0  72.0  37.0   NaN   NaN   \n",
       "1  2008-10-02   NaN   NaN   NaN   NaN   NaN  48.0  64.0  36.0   NaN   NaN   \n",
       "2  2008-10-03   NaN   NaN   NaN   NaN   NaN  45.0  64.0  33.0   NaN   NaN   \n",
       "3  2008-10-04   NaN   NaN   NaN   NaN   NaN  43.0  53.0  38.0   NaN   NaN   \n",
       "4  2008-10-05   NaN   NaN   NaN   NaN   NaN  39.0  52.0  32.0   NaN   NaN   \n",
       "\n",
       "   WESF  \n",
       "0   NaN  \n",
       "1   NaN  \n",
       "2   NaN  \n",
       "3   NaN  \n",
       "4   NaN  "
      ]
     },
     "execution_count": 41,
     "metadata": {},
     "output_type": "execute_result"
    }
   ],
   "source": [
    "file = '../../Data/VacationPlanner/vail_daily.csv'\n",
    "\n",
    "df = pd.read_csv(file)\n",
    "df.head()"
   ]
  },
  {
   "cell_type": "markdown",
   "metadata": {},
   "source": [
    "### Drop not extra columns"
   ]
  },
  {
   "cell_type": "code",
   "execution_count": 42,
   "metadata": {},
   "outputs": [],
   "source": [
    "df = df.drop(columns=['MDPR', 'MDSF', 'TOBS', 'WESD', 'WESF'])"
   ]
  },
  {
   "cell_type": "markdown",
   "metadata": {},
   "source": [
    "## Missing values in dataset"
   ]
  },
  {
   "cell_type": "code",
   "execution_count": 43,
   "metadata": {},
   "outputs": [
    {
     "data": {
      "text/plain": [
       "STATION          0\n",
       "NAME             0\n",
       "LATITUDE         0\n",
       "LONGITUDE        0\n",
       "ELEVATION        0\n",
       "DATE             0\n",
       "PRCP          4019\n",
       "SNOW         17791\n",
       "SNWD         10066\n",
       "TAVG         10207\n",
       "TMAX          7014\n",
       "TMIN          6808\n",
       "dtype: int64"
      ]
     },
     "execution_count": 43,
     "metadata": {},
     "output_type": "execute_result"
    }
   ],
   "source": [
    "df.isnull().sum()"
   ]
  },
  {
   "cell_type": "markdown",
   "metadata": {},
   "source": [
    "## Data cleaning\n",
    "\n",
    "1. In SNOW and SNWD replace NaNs with 0\n",
    "2. Convert the date_format.\n",
    "3. Format temperature to Celcius\n",
    "3. Crop the data to June"
   ]
  },
  {
   "cell_type": "code",
   "execution_count": 44,
   "metadata": {},
   "outputs": [
    {
     "data": {
      "text/html": [
       "<div>\n",
       "<style scoped>\n",
       "    .dataframe tbody tr th:only-of-type {\n",
       "        vertical-align: middle;\n",
       "    }\n",
       "\n",
       "    .dataframe tbody tr th {\n",
       "        vertical-align: top;\n",
       "    }\n",
       "\n",
       "    .dataframe thead th {\n",
       "        text-align: right;\n",
       "    }\n",
       "</style>\n",
       "<table border=\"1\" class=\"dataframe\">\n",
       "  <thead>\n",
       "    <tr style=\"text-align: right;\">\n",
       "      <th></th>\n",
       "      <th>STATION</th>\n",
       "      <th>NAME</th>\n",
       "      <th>LATITUDE</th>\n",
       "      <th>LONGITUDE</th>\n",
       "      <th>ELEVATION</th>\n",
       "      <th>PRCP</th>\n",
       "      <th>SNOW</th>\n",
       "      <th>SNWD</th>\n",
       "      <th>TAVG</th>\n",
       "      <th>TMAX</th>\n",
       "      <th>TMIN</th>\n",
       "      <th>date</th>\n",
       "    </tr>\n",
       "  </thead>\n",
       "  <tbody>\n",
       "    <tr>\n",
       "      <th>0</th>\n",
       "      <td>USR0000CDOW</td>\n",
       "      <td>DOWD JUNCTION COLORADO, CO US</td>\n",
       "      <td>39.6269</td>\n",
       "      <td>-106.4517</td>\n",
       "      <td>2742.6</td>\n",
       "      <td>NaN</td>\n",
       "      <td>NaN</td>\n",
       "      <td>NaN</td>\n",
       "      <td>53.0</td>\n",
       "      <td>72.0</td>\n",
       "      <td>37.0</td>\n",
       "      <td>2018-10-01</td>\n",
       "    </tr>\n",
       "    <tr>\n",
       "      <th>1</th>\n",
       "      <td>USR0000CDOW</td>\n",
       "      <td>DOWD JUNCTION COLORADO, CO US</td>\n",
       "      <td>39.6269</td>\n",
       "      <td>-106.4517</td>\n",
       "      <td>2742.6</td>\n",
       "      <td>NaN</td>\n",
       "      <td>NaN</td>\n",
       "      <td>NaN</td>\n",
       "      <td>48.0</td>\n",
       "      <td>64.0</td>\n",
       "      <td>36.0</td>\n",
       "      <td>2018-10-02</td>\n",
       "    </tr>\n",
       "    <tr>\n",
       "      <th>2</th>\n",
       "      <td>USR0000CDOW</td>\n",
       "      <td>DOWD JUNCTION COLORADO, CO US</td>\n",
       "      <td>39.6269</td>\n",
       "      <td>-106.4517</td>\n",
       "      <td>2742.6</td>\n",
       "      <td>NaN</td>\n",
       "      <td>NaN</td>\n",
       "      <td>NaN</td>\n",
       "      <td>45.0</td>\n",
       "      <td>64.0</td>\n",
       "      <td>33.0</td>\n",
       "      <td>2018-10-03</td>\n",
       "    </tr>\n",
       "    <tr>\n",
       "      <th>3</th>\n",
       "      <td>USR0000CDOW</td>\n",
       "      <td>DOWD JUNCTION COLORADO, CO US</td>\n",
       "      <td>39.6269</td>\n",
       "      <td>-106.4517</td>\n",
       "      <td>2742.6</td>\n",
       "      <td>NaN</td>\n",
       "      <td>NaN</td>\n",
       "      <td>NaN</td>\n",
       "      <td>43.0</td>\n",
       "      <td>53.0</td>\n",
       "      <td>38.0</td>\n",
       "      <td>2018-10-04</td>\n",
       "    </tr>\n",
       "    <tr>\n",
       "      <th>4</th>\n",
       "      <td>USR0000CDOW</td>\n",
       "      <td>DOWD JUNCTION COLORADO, CO US</td>\n",
       "      <td>39.6269</td>\n",
       "      <td>-106.4517</td>\n",
       "      <td>2742.6</td>\n",
       "      <td>NaN</td>\n",
       "      <td>NaN</td>\n",
       "      <td>NaN</td>\n",
       "      <td>39.0</td>\n",
       "      <td>52.0</td>\n",
       "      <td>32.0</td>\n",
       "      <td>2018-10-05</td>\n",
       "    </tr>\n",
       "  </tbody>\n",
       "</table>\n",
       "</div>"
      ],
      "text/plain": [
       "       STATION                           NAME  LATITUDE  LONGITUDE  ELEVATION  \\\n",
       "0  USR0000CDOW  DOWD JUNCTION COLORADO, CO US   39.6269  -106.4517     2742.6   \n",
       "1  USR0000CDOW  DOWD JUNCTION COLORADO, CO US   39.6269  -106.4517     2742.6   \n",
       "2  USR0000CDOW  DOWD JUNCTION COLORADO, CO US   39.6269  -106.4517     2742.6   \n",
       "3  USR0000CDOW  DOWD JUNCTION COLORADO, CO US   39.6269  -106.4517     2742.6   \n",
       "4  USR0000CDOW  DOWD JUNCTION COLORADO, CO US   39.6269  -106.4517     2742.6   \n",
       "\n",
       "   PRCP  SNOW  SNWD  TAVG  TMAX  TMIN       date  \n",
       "0   NaN   NaN   NaN  53.0  72.0  37.0 2018-10-01  \n",
       "1   NaN   NaN   NaN  48.0  64.0  36.0 2018-10-02  \n",
       "2   NaN   NaN   NaN  45.0  64.0  33.0 2018-10-03  \n",
       "3   NaN   NaN   NaN  43.0  53.0  38.0 2018-10-04  \n",
       "4   NaN   NaN   NaN  39.0  52.0  32.0 2018-10-05  "
      ]
     },
     "execution_count": 44,
     "metadata": {},
     "output_type": "execute_result"
    }
   ],
   "source": [
    "# Replace nans\n",
    "# df[['SNOW', 'SNWD']] = df[['SNOW', 'SNWD']].fillna(0)\n",
    "df = df[df['date'] < '2019-06-01']\n",
    "\n",
    "# Format date\n",
    "def format_date(x):\n",
    "    if x[5:7] in ['12', '11', '10']:\n",
    "        x = '2018' + x[4:]\n",
    "    else:\n",
    "        x = '2019' + x[4:]\n",
    "    return x\n",
    "df['date'] = df['DATE'].apply(format_date)\n",
    "df = df[df['date'] != '2019-02-29']\n",
    "df['date'] = pd.to_datetime(df['date'], yearfirst=True)\n",
    "df = df.drop(columns=['DATE'])\n",
    "df.head()"
   ]
  },
  {
   "cell_type": "markdown",
   "metadata": {},
   "source": [
    "### Data processing"
   ]
  },
  {
   "cell_type": "code",
   "execution_count": 45,
   "metadata": {},
   "outputs": [],
   "source": [
    "df_stats = df.groupby('date').mean()\n",
    "df_std = df.groupby('date').std()\n",
    "\n",
    "std_columns = ['PRCP_STD', 'SNOW_STD', 'SNWD_STD', 'TAVG_STD', 'TMAX_STD', 'TMIN_STD']\n",
    "std_columns_ = ['PRCP', 'SNOW', 'SNWD', 'TAVG', 'TMAX', 'TMIN']\n",
    "df_stats[std_columns] = df_std[std_columns_]"
   ]
  },
  {
   "cell_type": "code",
   "execution_count": 48,
   "metadata": {},
   "outputs": [
    {
     "data": {
      "text/plain": [
       "[<matplotlib.lines.Line2D at 0x7f2b55fe1860>]"
      ]
     },
     "execution_count": 48,
     "metadata": {},
     "output_type": "execute_result"
    },
    {
     "data": {
      "image/png": "[encoded data removed]",
      "text/plain": [
       "<Figure size 1080x504 with 1 Axes>"
      ]
     },
     "metadata": {
      "needs_background": "light"
     },
     "output_type": "display_data"
    }
   ],
   "source": [
    "plt.figure(figsize=(15,7))\n",
    "plt.plot(df_stats.index, df_stats['SNWD'])"
   ]
  },
  {
   "cell_type": "code",
   "execution_count": 50,
   "metadata": {},
   "outputs": [
    {
     "data": {
      "text/plain": [
       "[<matplotlib.lines.Line2D at 0x7f2b55f1aa58>]"
      ]
     },
     "execution_count": 50,
     "metadata": {},
     "output_type": "execute_result"
    },
    {
     "data": {
      "image/png": "[encoded data removed]",
      "text/plain": [
       "<Figure size 1080x504 with 1 Axes>"
      ]
     },
     "metadata": {
      "needs_background": "light"
     },
     "output_type": "display_data"
    }
   ],
   "source": [
    "plt.figure(figsize=(15,7))\n",
    "plt.plot(df_stats.index, df_stats['TAVG'])"
   ]
  }
 ],
 "metadata": {
  "kernelspec": {
   "display_name": "Python 3",
   "language": "python",
   "name": "python3"
  },
  "language_info": {
   "codemirror_mode": {
    "name": "ipython",
    "version": 3
   },
   "file_extension": ".py",
   "mimetype": "text/x-python",
   "name": "python",
   "nbconvert_exporter": "python",
   "pygments_lexer": "ipython3",
   "version": "3.6.6"
  }
 },
 "nbformat": 4,
 "nbformat_minor": 2
}
