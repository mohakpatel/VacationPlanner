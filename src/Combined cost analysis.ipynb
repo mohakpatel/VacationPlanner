{
 "cells": [
  {
   "cell_type": "markdown",
   "metadata": {},
   "source": [
    "# Combined Cost Analysis\n",
    "\n",
    "Here comes the fun part. So far, I have collected individual variable price components of the trip. I will now combine all these individual variable and search for the cheapest time to travel for the ski trip. I'm excited!\n",
    "\n",
    "A brief summary of the trip search details. I'm looking for the cheapest time to go a 5day/4night ski trip to Denver, CO for a possible trave start date between 15th December 2018 and 7th April 2019. "
   ]
  },
  {
   "cell_type": "code",
   "execution_count": 1,
   "metadata": {},
   "outputs": [],
   "source": [
    "import numpy as np\n",
    "import pandas as pd\n",
    "import matplotlib.pyplot as plt\n",
    "import seaborn as sns\n",
    "%matplotlib inline\n",
    "\n",
    "# Initiate dataframe withing range of travel start dates\n",
    "df = pd.DataFrame(data={'date':pd.date_range(start='2018-12-15', end='2019-04-07')})\n",
    "df['date'] = df['date'].astype(str)"
   ]
  },
  {
   "cell_type": "markdown",
   "metadata": {},
   "source": [
    "## Airbnb accommodation data\n",
    "I will add the price of Airbnb listing for a 4-night stay to the travel date DF. But first I filter the Airbnb listings according to my preferences and then add the median price of the remaining listing in the travel data DF. \n",
    "\n",
    "### Narrow-down listing according to preferences\n",
    "I filter the listing according to the following criteria:\n",
    "1. The number of people a listing accommodates: 2-4 (This would depend on how many people I can convince to join me on the trip).\n",
    "2. Minimum listing rating of 80.\n",
    "3. Room type: Entire home/apt"
   ]
  },
  {
   "cell_type": "code",
   "execution_count": 2,
   "metadata": {},
   "outputs": [],
   "source": [
    "listing = pd.read_csv('../data/advanced_listing.csv')\n",
    "idx = ((listing['accommodates'] >= 2) &\n",
    "       (listing['accommodates'] <= 4) &\n",
    "       (listing['review_scores_rating'] >= 90) &\n",
    "       (listing['room_type'] >= 'Entire home/apt'))\n",
    "\n",
    "selected_listing_id = listing[idx]['id']\n",
    "listing = listing.set_index('id')"
   ]
  },
  {
   "cell_type": "markdown",
   "metadata": {},
   "source": [
    "### Narrow down calendar price data to selected listing id"
   ]
  },
  {
   "cell_type": "code",
   "execution_count": 3,
   "metadata": {},
   "outputs": [
    {
     "name": "stdout",
     "output_type": "stream",
     "text": [
      "<class 'pandas.core.frame.DataFrame'>\n",
      "Int64Index: 121404 entries, 151 to 262739\n",
      "Data columns (total 4 columns):\n",
      "Unnamed: 0    121404 non-null int64\n",
      "id            121404 non-null int64\n",
      "date          121404 non-null object\n",
      "price         111671 non-null float64\n",
      "dtypes: float64(1), int64(2), object(1)\n",
      "memory usage: 4.6+ MB\n"
     ]
    }
   ],
   "source": [
    "calendar = pd.read_csv('../data/advanced_calendar.csv')\n",
    "calendar = calendar[calendar['id'].isin(selected_listing_id)]\n",
    "calendar.head()\n",
    "calendar.info()"
   ]
  },
  {
   "cell_type": "markdown",
   "metadata": {},
   "source": [
    "### Compile total median Airbnb cost \n",
    "\n",
    "For each start date between 15th December 2018 and 7th April 2019, I compile the total median cost of all the listing in which I could potentially stay for 4 consecutive nights,and then add this data to the travel date DF. \n"
   ]
  },
  {
   "cell_type": "code",
   "execution_count": 4,
   "metadata": {},
   "outputs": [
    {
     "data": {
      "text/html": [
       "<div>\n",
       "<style scoped>\n",
       "    .dataframe tbody tr th:only-of-type {\n",
       "        vertical-align: middle;\n",
       "    }\n",
       "\n",
       "    .dataframe tbody tr th {\n",
       "        vertical-align: top;\n",
       "    }\n",
       "\n",
       "    .dataframe thead th {\n",
       "        text-align: right;\n",
       "    }\n",
       "</style>\n",
       "<table border=\"1\" class=\"dataframe\">\n",
       "  <thead>\n",
       "    <tr style=\"text-align: right;\">\n",
       "      <th></th>\n",
       "      <th>date</th>\n",
       "      <th>Airbnb_cost</th>\n",
       "    </tr>\n",
       "  </thead>\n",
       "  <tbody>\n",
       "    <tr>\n",
       "      <th>0</th>\n",
       "      <td>2018-12-15</td>\n",
       "      <td>148.333333</td>\n",
       "    </tr>\n",
       "    <tr>\n",
       "      <th>1</th>\n",
       "      <td>2018-12-16</td>\n",
       "      <td>147.250000</td>\n",
       "    </tr>\n",
       "    <tr>\n",
       "      <th>2</th>\n",
       "      <td>2018-12-17</td>\n",
       "      <td>147.000000</td>\n",
       "    </tr>\n",
       "    <tr>\n",
       "      <th>3</th>\n",
       "      <td>2018-12-18</td>\n",
       "      <td>147.500000</td>\n",
       "    </tr>\n",
       "    <tr>\n",
       "      <th>4</th>\n",
       "      <td>2018-12-19</td>\n",
       "      <td>150.000000</td>\n",
       "    </tr>\n",
       "  </tbody>\n",
       "</table>\n",
       "</div>"
      ],
      "text/plain": [
       "         date  Airbnb_cost\n",
       "0  2018-12-15   148.333333\n",
       "1  2018-12-16   147.250000\n",
       "2  2018-12-17   147.000000\n",
       "3  2018-12-18   147.500000\n",
       "4  2018-12-19   150.000000"
      ]
     },
     "execution_count": 4,
     "metadata": {},
     "output_type": "execute_result"
    }
   ],
   "source": [
    "def median_airbnb_cost(start_date):\n",
    "    \n",
    "    # Find end date\n",
    "    df_ = pd.DataFrame(data={'date':pd.date_range(start=start_date, periods=4)})\n",
    "    end_date = df_['date'].astype(str).tolist()[-1]\n",
    "    \n",
    "    # Collect all listing between start and end date\n",
    "    sub_calendar = calendar[(calendar['date'] >= start_date) &\n",
    "                           (calendar['date'] <= end_date)]\n",
    "    \n",
    "    # Find listings which are not available for all the 4 nights\n",
    "    invalid_id = sub_calendar[sub_calendar['price'].isnull()]['id'].unique()\n",
    "    \n",
    "    # Sum of price to stay at a listing\n",
    "    df_local = sub_calendar.groupby('id').sum()\n",
    "    \n",
    "    # Remove invalid id\n",
    "    df_local = df_local[~df_local.index.isin(invalid_id)]\n",
    "    \n",
    "    # Compure price person for the valid listings\n",
    "    df_local['id'] = df_local.index\n",
    "    df_local.reset_index(drop=True)\n",
    "    df_local['cleaning_fee'] = df_local['id'].apply(lambda x: listing.loc[x, 'cleaning_fee'])\n",
    "    df_local['accommodates'] = df_local['id'].apply(lambda x: listing.loc[x, 'accommodates'])\n",
    "    df_local['price'] = (df_local['price'] + df_local['cleaning_fee'])/df_local['accommodates']\n",
    "    \n",
    "    return df_local['price'].median()\n",
    "\n",
    "# Collect Airbnb cost in travel data DF\n",
    "df['Airbnb_cost'] = df['date'].apply(median_airbnb_cost)\n",
    "\n",
    "df.head()"
   ]
  },
  {
   "cell_type": "markdown",
   "metadata": {},
   "source": [
    "## Flight price data\n",
    "To travel data DF, I add the flight price data for the given start date and a 4 night from origin airport from Madison and Chicago. "
   ]
  },
  {
   "cell_type": "code",
   "execution_count": 5,
   "metadata": {},
   "outputs": [
    {
     "data": {
      "text/html": [
       "<div>\n",
       "<style scoped>\n",
       "    .dataframe tbody tr th:only-of-type {\n",
       "        vertical-align: middle;\n",
       "    }\n",
       "\n",
       "    .dataframe tbody tr th {\n",
       "        vertical-align: top;\n",
       "    }\n",
       "\n",
       "    .dataframe thead th {\n",
       "        text-align: right;\n",
       "    }\n",
       "</style>\n",
       "<table border=\"1\" class=\"dataframe\">\n",
       "  <thead>\n",
       "    <tr style=\"text-align: right;\">\n",
       "      <th></th>\n",
       "      <th>date</th>\n",
       "      <th>Airbnb_cost</th>\n",
       "      <th>fly_Madison</th>\n",
       "      <th>fly_Chicago</th>\n",
       "    </tr>\n",
       "  </thead>\n",
       "  <tbody>\n",
       "    <tr>\n",
       "      <th>0</th>\n",
       "      <td>2018-12-15</td>\n",
       "      <td>148.333333</td>\n",
       "      <td>261.0</td>\n",
       "      <td>277.0</td>\n",
       "    </tr>\n",
       "    <tr>\n",
       "      <th>1</th>\n",
       "      <td>2018-12-16</td>\n",
       "      <td>147.250000</td>\n",
       "      <td>267.0</td>\n",
       "      <td>312.0</td>\n",
       "    </tr>\n",
       "    <tr>\n",
       "      <th>2</th>\n",
       "      <td>2018-12-17</td>\n",
       "      <td>147.000000</td>\n",
       "      <td>415.0</td>\n",
       "      <td>305.0</td>\n",
       "    </tr>\n",
       "    <tr>\n",
       "      <th>3</th>\n",
       "      <td>2018-12-18</td>\n",
       "      <td>147.500000</td>\n",
       "      <td>261.0</td>\n",
       "      <td>332.0</td>\n",
       "    </tr>\n",
       "    <tr>\n",
       "      <th>4</th>\n",
       "      <td>2018-12-19</td>\n",
       "      <td>150.000000</td>\n",
       "      <td>381.0</td>\n",
       "      <td>287.0</td>\n",
       "    </tr>\n",
       "  </tbody>\n",
       "</table>\n",
       "</div>"
      ],
      "text/plain": [
       "         date  Airbnb_cost  fly_Madison  fly_Chicago\n",
       "0  2018-12-15   148.333333        261.0        277.0\n",
       "1  2018-12-16   147.250000        267.0        312.0\n",
       "2  2018-12-17   147.000000        415.0        305.0\n",
       "3  2018-12-18   147.500000        261.0        332.0\n",
       "4  2018-12-19   150.000000        381.0        287.0"
      ]
     },
     "execution_count": 5,
     "metadata": {},
     "output_type": "execute_result"
    }
   ],
   "source": [
    "flight_price = pd.read_csv('../data/flight_price.csv')\n",
    "flight_price = flight_price.set_index('date')\n",
    "\n",
    "df['fly_Madison'] = df['date'].apply(lambda x: flight_price.loc[x, 'Madison'])\n",
    "df['fly_Chicago'] = df['date'].apply(lambda x: flight_price.loc[x, 'Chicago'])\n",
    "\n",
    "df.head()"
   ]
  },
  {
   "cell_type": "markdown",
   "metadata": {},
   "source": [
    "## Secondary costs\n",
    "\n",
    "Secondary cost comprises of combined two variable costs: (1) vacation day cost and (2) peak travel day cost. Here, I add the total secondary cost for the five days spent in the ski trip to the travel date DF. "
   ]
  },
  {
   "cell_type": "code",
   "execution_count": 6,
   "metadata": {},
   "outputs": [
    {
     "data": {
      "text/html": [
       "<div>\n",
       "<style scoped>\n",
       "    .dataframe tbody tr th:only-of-type {\n",
       "        vertical-align: middle;\n",
       "    }\n",
       "\n",
       "    .dataframe tbody tr th {\n",
       "        vertical-align: top;\n",
       "    }\n",
       "\n",
       "    .dataframe thead th {\n",
       "        text-align: right;\n",
       "    }\n",
       "</style>\n",
       "<table border=\"1\" class=\"dataframe\">\n",
       "  <thead>\n",
       "    <tr style=\"text-align: right;\">\n",
       "      <th></th>\n",
       "      <th>date</th>\n",
       "      <th>Airbnb_cost</th>\n",
       "      <th>fly_Madison</th>\n",
       "      <th>fly_Chicago</th>\n",
       "      <th>secondary_cost</th>\n",
       "    </tr>\n",
       "  </thead>\n",
       "  <tbody>\n",
       "    <tr>\n",
       "      <th>0</th>\n",
       "      <td>2018-12-15</td>\n",
       "      <td>148.333333</td>\n",
       "      <td>261.0</td>\n",
       "      <td>277.0</td>\n",
       "      <td>230</td>\n",
       "    </tr>\n",
       "    <tr>\n",
       "      <th>1</th>\n",
       "      <td>2018-12-16</td>\n",
       "      <td>147.250000</td>\n",
       "      <td>267.0</td>\n",
       "      <td>312.0</td>\n",
       "      <td>285</td>\n",
       "    </tr>\n",
       "    <tr>\n",
       "      <th>2</th>\n",
       "      <td>2018-12-17</td>\n",
       "      <td>147.000000</td>\n",
       "      <td>415.0</td>\n",
       "      <td>305.0</td>\n",
       "      <td>340</td>\n",
       "    </tr>\n",
       "    <tr>\n",
       "      <th>3</th>\n",
       "      <td>2018-12-18</td>\n",
       "      <td>147.500000</td>\n",
       "      <td>261.0</td>\n",
       "      <td>332.0</td>\n",
       "      <td>345</td>\n",
       "    </tr>\n",
       "    <tr>\n",
       "      <th>4</th>\n",
       "      <td>2018-12-19</td>\n",
       "      <td>150.000000</td>\n",
       "      <td>381.0</td>\n",
       "      <td>287.0</td>\n",
       "      <td>350</td>\n",
       "    </tr>\n",
       "  </tbody>\n",
       "</table>\n",
       "</div>"
      ],
      "text/plain": [
       "         date  Airbnb_cost  fly_Madison  fly_Chicago  secondary_cost\n",
       "0  2018-12-15   148.333333        261.0        277.0             230\n",
       "1  2018-12-16   147.250000        267.0        312.0             285\n",
       "2  2018-12-17   147.000000        415.0        305.0             340\n",
       "3  2018-12-18   147.500000        261.0        332.0             345\n",
       "4  2018-12-19   150.000000        381.0        287.0             350"
      ]
     },
     "execution_count": 6,
     "metadata": {},
     "output_type": "execute_result"
    }
   ],
   "source": [
    "vacationday_peaktravel = pd.read_csv('../data/peaktravel_vacationday_cost.csv')\n",
    "vacationday_peaktravel = vacationday_peaktravel.set_index('date')\n",
    "\n",
    "def cumulative_cost(start_date):\n",
    "    \n",
    "    # Find end date\n",
    "    df_ = pd.DataFrame(data={'date':pd.date_range(start=start_date, periods=5)})\n",
    "    end_date = df_['date'].astype(str).tolist()[-1]\n",
    "    \n",
    "    # Slice all cost between start and end date\n",
    "    sub_df = vacationday_peaktravel.loc[start_date:end_date, ['vacation_day_cost', 'peak_travel_cost']]\n",
    "    \n",
    "    return sub_df.sum().sum()\n",
    "\n",
    "df['secondary_cost'] = df['date'].apply(cumulative_cost)\n",
    "\n",
    "df.head()"
   ]
  },
  {
   "cell_type": "markdown",
   "metadata": {},
   "source": [
    "## Weather data\n",
    "\n",
    "Collect and add the snowdepth data to the the travel date DF."
   ]
  },
  {
   "cell_type": "code",
   "execution_count": 7,
   "metadata": {},
   "outputs": [
    {
     "data": {
      "text/html": [
       "<div>\n",
       "<style scoped>\n",
       "    .dataframe tbody tr th:only-of-type {\n",
       "        vertical-align: middle;\n",
       "    }\n",
       "\n",
       "    .dataframe tbody tr th {\n",
       "        vertical-align: top;\n",
       "    }\n",
       "\n",
       "    .dataframe thead th {\n",
       "        text-align: right;\n",
       "    }\n",
       "</style>\n",
       "<table border=\"1\" class=\"dataframe\">\n",
       "  <thead>\n",
       "    <tr style=\"text-align: right;\">\n",
       "      <th></th>\n",
       "      <th>date</th>\n",
       "      <th>Airbnb_cost</th>\n",
       "      <th>fly_Madison</th>\n",
       "      <th>fly_Chicago</th>\n",
       "      <th>secondary_cost</th>\n",
       "      <th>snwd</th>\n",
       "      <th>snwd_std</th>\n",
       "    </tr>\n",
       "  </thead>\n",
       "  <tbody>\n",
       "    <tr>\n",
       "      <th>0</th>\n",
       "      <td>2018-12-15</td>\n",
       "      <td>148.333333</td>\n",
       "      <td>261.0</td>\n",
       "      <td>277.0</td>\n",
       "      <td>230</td>\n",
       "      <td>12.275755</td>\n",
       "      <td>6.828423</td>\n",
       "    </tr>\n",
       "    <tr>\n",
       "      <th>1</th>\n",
       "      <td>2018-12-16</td>\n",
       "      <td>147.250000</td>\n",
       "      <td>267.0</td>\n",
       "      <td>312.0</td>\n",
       "      <td>285</td>\n",
       "      <td>12.834855</td>\n",
       "      <td>8.253375</td>\n",
       "    </tr>\n",
       "    <tr>\n",
       "      <th>2</th>\n",
       "      <td>2018-12-17</td>\n",
       "      <td>147.000000</td>\n",
       "      <td>415.0</td>\n",
       "      <td>305.0</td>\n",
       "      <td>340</td>\n",
       "      <td>13.236365</td>\n",
       "      <td>8.451981</td>\n",
       "    </tr>\n",
       "    <tr>\n",
       "      <th>3</th>\n",
       "      <td>2018-12-18</td>\n",
       "      <td>147.500000</td>\n",
       "      <td>261.0</td>\n",
       "      <td>332.0</td>\n",
       "      <td>345</td>\n",
       "      <td>13.623114</td>\n",
       "      <td>8.662577</td>\n",
       "    </tr>\n",
       "    <tr>\n",
       "      <th>4</th>\n",
       "      <td>2018-12-19</td>\n",
       "      <td>150.000000</td>\n",
       "      <td>381.0</td>\n",
       "      <td>287.0</td>\n",
       "      <td>350</td>\n",
       "      <td>14.000591</td>\n",
       "      <td>8.825957</td>\n",
       "    </tr>\n",
       "  </tbody>\n",
       "</table>\n",
       "</div>"
      ],
      "text/plain": [
       "         date  Airbnb_cost  fly_Madison  fly_Chicago  secondary_cost  \\\n",
       "0  2018-12-15   148.333333        261.0        277.0             230   \n",
       "1  2018-12-16   147.250000        267.0        312.0             285   \n",
       "2  2018-12-17   147.000000        415.0        305.0             340   \n",
       "3  2018-12-18   147.500000        261.0        332.0             345   \n",
       "4  2018-12-19   150.000000        381.0        287.0             350   \n",
       "\n",
       "        snwd  snwd_std  \n",
       "0  12.275755  6.828423  \n",
       "1  12.834855  8.253375  \n",
       "2  13.236365  8.451981  \n",
       "3  13.623114  8.662577  \n",
       "4  14.000591  8.825957  "
      ]
     },
     "execution_count": 7,
     "metadata": {},
     "output_type": "execute_result"
    }
   ],
   "source": [
    "weather = pd.read_csv('../data/weather_trend.csv')\n",
    "weather = weather.set_index('date')\n",
    "\n",
    "df['snwd'] = df['date'].apply(lambda x: weather.loc[x, 'SNWD'])\n",
    "# df['temp'] = df['date'].apply(lambda x: weather.loc[x, 'TAVG'])\n",
    "df['snwd_std'] = df['date'].apply(lambda x: weather.loc[x, 'SNWD_STD'])\n",
    "# df['temp_std'] = df['date'].apply(lambda x: weather.loc[x, 'TAVG_STD'])\n",
    "\n",
    "df.head()"
   ]
  },
  {
   "cell_type": "markdown",
   "metadata": {},
   "source": [
    "## Total cost to fly from Madison or Chicago\n",
    "\n",
    "Compute the total variable cost to fly from either Madison or Chicago by adding the variable flight ticket price, secondary costs and Airbnb cost. "
   ]
  },
  {
   "cell_type": "code",
   "execution_count": 8,
   "metadata": {},
   "outputs": [],
   "source": [
    "df['Madison'] = df['fly_Madison'] + df['secondary_cost'] + df['Airbnb_cost']\n",
    "df['Chicago'] = df['fly_Chicago'] + df['secondary_cost'] + df['Airbnb_cost']"
   ]
  },
  {
   "cell_type": "markdown",
   "metadata": {},
   "source": [
    "## Find the cheapest travel start date\n",
    "\n",
    "Cheapest travel date to fly from both Madison and Chicago. And also look at the individual cost components"
   ]
  },
  {
   "cell_type": "code",
   "execution_count": 9,
   "metadata": {},
   "outputs": [
    {
     "data": {
      "text/plain": [
       "513.0"
      ]
     },
     "execution_count": 9,
     "metadata": {},
     "output_type": "execute_result"
    }
   ],
   "source": [
    "cheapest_price = df[['Madison', 'Chicago']].min().min()\n",
    "cheapest_price"
   ]
  },
  {
   "cell_type": "code",
   "execution_count": 10,
   "metadata": {},
   "outputs": [
    {
     "data": {
      "text/plain": [
       "date              2019-02-02\n",
       "Airbnb_cost              151\n",
       "fly_Madison              162\n",
       "fly_Chicago              190\n",
       "secondary_cost           200\n",
       "snwd                 29.6037\n",
       "snwd_std              11.053\n",
       "Madison                  513\n",
       "Chicago                  541\n",
       "Name: 49, dtype: object"
      ]
     },
     "execution_count": 10,
     "metadata": {},
     "output_type": "execute_result"
    }
   ],
   "source": [
    "# Cheapest price and date details from Chicago\n",
    "df.loc[df['Chicago'].idxmin()]"
   ]
  },
  {
   "cell_type": "code",
   "execution_count": 11,
   "metadata": {},
   "outputs": [
    {
     "data": {
      "text/plain": [
       "date              2019-02-02\n",
       "Airbnb_cost              151\n",
       "fly_Madison              162\n",
       "fly_Chicago              190\n",
       "secondary_cost           200\n",
       "snwd                 29.6037\n",
       "snwd_std              11.053\n",
       "Madison                  513\n",
       "Chicago                  541\n",
       "Name: 49, dtype: object"
      ]
     },
     "execution_count": 11,
     "metadata": {},
     "output_type": "execute_result"
    }
   ],
   "source": [
    "# Cheapest price and date details from Madison\n",
    "df.loc[df['Madison'].idxmin()]"
   ]
  },
  {
   "cell_type": "markdown",
   "metadata": {},
   "source": [
    "# Visualize\n",
    "\n",
    "Visualize the total and individual variable cost components for the range of start date to find the cheapest time to travel. In the plot, I also have the snow depth data to see if the cheapest time to travel will have good snow conditions. "
   ]
  },
  {
   "cell_type": "code",
   "execution_count": 12,
   "metadata": {},
   "outputs": [
    {
     "data": {
      "image/png": "[encoded data removed]",
      "text/plain": [
       "<Figure size 1080x720 with 2 Axes>"
      ]
     },
     "metadata": {
      "needs_background": "light"
     },
     "output_type": "display_data"
    }
   ],
   "source": [
    "fig, ax = plt.subplots(2,1, sharex=True, figsize = (15,10),\n",
    "                        gridspec_kw = {'height_ratios':[3, 1.2]})\n",
    "plt.rcParams.update({'font.size': 14})\n",
    "\n",
    "# First subplot has stacked price cost for line plot for flight ticket from Madison and Chicago\n",
    "labels = [\"Airbnb cost\", \"Secondary cost\"]\n",
    "colors = ['#a6cee3', '#1f78b4']\n",
    "\n",
    "ax[0].stackplot(df['date'], \n",
    "                df['Airbnb_cost'],\n",
    "                df['secondary_cost'],\n",
    "                labels=labels,\n",
    "                colors=colors, \n",
    "                alpha=0.75)\n",
    "ax[0].plot(df['date'], df['Madison'], 'k', color='#a1d99b', linewidth=3)\n",
    "ax[0].plot(df['date'], df['Chicago'], 'k', color='#fdae6b', linewidth=3)\n",
    "ax[0].plot(df['date'], 0*df['Madison']+cheapest_price+50, ':k', alpha=0.4, label='Low price')\n",
    "ax[0].legend(fontsize=14, loc='upper right')\n",
    "ax[0].spines[\"top\"].set_visible(False)\n",
    "ax[0].spines[\"right\"].set_visible(False)\n",
    "ax[0].spines[\"bottom\"].set_visible(False)\n",
    "ax[0].set_yticklabels(['${0:0.0f}'.format(x) for x in ax[0].get_yticks()])\n",
    "ax[0].set_ylabel('Price', fontdict={'size':14})\n",
    "ax[0].set_ylim(0,1500)\n",
    "\n",
    "# Draw snowdepth plot\n",
    "lower = df['snwd'] - df['snwd_std']\n",
    "lower[lower<0] = 0\n",
    "upper = df['snwd'] + df['snwd_std']\n",
    "ax[1].fill_between(df['date'], lower*0, df['snwd'],\n",
    "            alpha=0.5, facecolor='#deebf7')\n",
    "ax[1].fill_between(df['date'], df['snwd'], upper,\n",
    "            alpha=0.5, facecolor='#f7fbff')\n",
    "ax[1].plot(df['date'], lower, '--', color='#9ecae1')\n",
    "ax[1].plot(df['date'], upper, '--', color='#9ecae1')\n",
    "ax[1].plot(df['date'], df['snwd'], 'k', color='#4292c6')\n",
    "ax[1].spines[\"top\"].set_visible(False)\n",
    "ax[1].spines[\"right\"].set_visible(False)\n",
    "ax[1].set_ylabel('Snow depth (inches)', fontdict={'size':14});\n",
    "ax[1].set_ylim(0,50)\n",
    "\n",
    "xticks = ['2018-12-15', '2019-01-01', '2019-01-15', '2019-02-01', '2019-02-15', '2019-03-01', \n",
    "          '2019-03-15', '2019-04-01']\n",
    "ax[1].set_xticks(xticks)\n",
    "\n",
    "fig.autofmt_xdate()"
   ]
  },
  {
   "cell_type": "markdown",
   "metadata": {},
   "source": [
    "# Conclusion"
   ]
  },
  {
   "cell_type": "markdown",
   "metadata": {},
   "source": [
    "## Cheapest time to travel\n",
    "\n",
    "**The cheapest time to travel is 2nd February 2019 with flight from Maidson and a total variable price of $513.** Some later days with tickets from Madison are also quite cheap. This gives me some flexibility.\n",
    "\n",
    "Couple other time when tickets get close to this range is the second week of January and last week February. The good news is that the cheapest travel dates have flights from Madison. Meaning I don't have to take a bus to Chicago to catch a flight. "
   ]
  },
  {
   "cell_type": "code",
   "execution_count": 13,
   "metadata": {},
   "outputs": [
    {
     "data": {
      "text/plain": [
       "date              2019-02-02\n",
       "Airbnb_cost              151\n",
       "fly_Madison              162\n",
       "fly_Chicago              190\n",
       "secondary_cost           200\n",
       "snwd                 29.6037\n",
       "snwd_std              11.053\n",
       "Madison                  513\n",
       "Chicago                  541\n",
       "Name: 49, dtype: object"
      ]
     },
     "execution_count": 13,
     "metadata": {},
     "output_type": "execute_result"
    }
   ],
   "source": [
    "df.loc[df['Madison'].idxmin()]"
   ]
  },
  {
   "cell_type": "markdown",
   "metadata": {},
   "source": [
    "## Saving from this optimization\n",
    "\n",
    "Now that I have already done the optimization to select the best travel data. Now, I want to check if this optimization was worth the effort.\n",
    "\n",
    "I measure this in two ways:\n",
    "#### (1) Mean Cost savings:\n",
    "The amount of money saved between traveling on a random date. I assume this can be represented well by the mean cost over all the travel date range. With optimization, I save approximately **$221.83**. This is a big saving for me."
   ]
  },
  {
   "cell_type": "code",
   "execution_count": 14,
   "metadata": {},
   "outputs": [
    {
     "data": {
      "text/plain": [
       "221.83260233918122"
      ]
     },
     "execution_count": 14,
     "metadata": {},
     "output_type": "execute_result"
    }
   ],
   "source": [
    "# Mean Saving\n",
    "df['Madison'].mean() - df['Madison'].min()"
   ]
  },
  {
   "cell_type": "markdown",
   "metadata": {},
   "source": [
    "#### (2) Worst case savings:\n",
    "The amount of money saved between the worst and the best date to travel is **$761**. "
   ]
  },
  {
   "cell_type": "code",
   "execution_count": 15,
   "metadata": {},
   "outputs": [
    {
     "data": {
      "text/plain": [
       "761.0"
      ]
     },
     "execution_count": 15,
     "metadata": {},
     "output_type": "execute_result"
    }
   ],
   "source": [
    "# Worst case Saving\n",
    "df['Madison'].max() - df['Madison'].min()"
   ]
  },
  {
   "cell_type": "markdown",
   "metadata": {},
   "source": [
    "## Approximating best time to travel by optimizing only on flight tickets\n",
    "\n",
    "An often suggested budget travel trip is to find the cheapest day for air tickets to reduce travel cost. \n",
    "\n",
    "I want to test this hypothesis and see if optimizing only on flight ticket is a good approximation for finding the cheapest dates to travel.\n",
    "\n",
    "\n",
    "#### Correlation between flight price and total price\n",
    "\n",
    "The correlation value of 0.83, suggests that their does exist a strong correlation between flight price and total cost. So flight price could a good approximation."
   ]
  },
  {
   "cell_type": "code",
   "execution_count": 16,
   "metadata": {},
   "outputs": [
    {
     "data": {
      "image/png": "[encoded data removed]",
      "text/plain": [
       "<Figure size 288x288 with 2 Axes>"
      ]
     },
     "metadata": {
      "needs_background": "light"
     },
     "output_type": "display_data"
    }
   ],
   "source": [
    "corrmat = (df[['fly_Madison', 'Madison']].corr().values + df[['fly_Chicago', 'Chicago']].corr().values)/2\n",
    "plt.figure(figsize=(4,4))\n",
    "sns.heatmap(corrmat, annot=True, vmin=-1, vmax=1, cmap='RdBu',\n",
    "            xticklabels=['Flight ticket cost', 'Total Cost'],\n",
    "           yticklabels=['Flight ticket cost', 'Total Cost']);"
   ]
  },
  {
   "cell_type": "markdown",
   "metadata": {},
   "source": [
    "#### Lost saving when optimizing only on flight price\n",
    "\n",
    "We just saw that flight price and total price have strong correlation. Now, we make a comparison on how much potentially saving that I would not be taking advatnage of if I was only optimizing on flight price. \n",
    "\n",
    "To quantity this, I search for 7 cheapests dates of travel based on only flight price and total travel cost. Then, I find the mean difference between cost of travels on these dates. "
   ]
  },
  {
   "cell_type": "code",
   "execution_count": 17,
   "metadata": {},
   "outputs": [
    {
     "name": "stdout",
     "output_type": "stream",
     "text": [
      "Potential mean savings lost: $90.75\n"
     ]
    }
   ],
   "source": [
    "# Will only focus on Madison data\n",
    "\n",
    "num_days = 7 # N number of cheapest travel dates to consider\n",
    "\n",
    "# Mean travel cost on 7 cheapest days to travel based only on flight price \n",
    "mean_travel_onlyflight =  df.sort_values(['fly_Madison'], ascending=1)[:num_days]['Madison'].mean()\n",
    "\n",
    "# Mean travel cost on 7 cheapest days to travel based on totral travel cost \n",
    "mean_travel_totalcost =  df.sort_values(['Madison'], ascending=1)[:num_days]['Madison'].mean()\n",
    "\n",
    "# Savings lost if I only optimize on flight price\n",
    "savings_lost = mean_travel_onlyflight - mean_travel_totalcost\n",
    "savings_lost\n",
    "print('Potential mean savings lost: ${:0.2f}'.format(savings_lost))"
   ]
  },
  {
   "cell_type": "markdown",
   "metadata": {},
   "source": [
    "On average if I only optimize only based on flight tickets, I would lose on average \\$90.75. That is a significant number.\n",
    "\n",
    "In all, I would say this excercise was worth the effort. And I can pretty much use this same infrastructure to optimize on my other vacations in future. This was fun :D"
   ]
  }
 ],
 "metadata": {
  "kernelspec": {
   "display_name": "Python 3",
   "language": "python",
   "name": "python3"
  },
  "language_info": {
   "codemirror_mode": {
    "name": "ipython",
    "version": 3
   },
   "file_extension": ".py",
   "mimetype": "text/x-python",
   "name": "python",
   "nbconvert_exporter": "python",
   "pygments_lexer": "ipython3",
   "version": "3.6.6"
  }
 },
 "nbformat": 4,
 "nbformat_minor": 2
}
