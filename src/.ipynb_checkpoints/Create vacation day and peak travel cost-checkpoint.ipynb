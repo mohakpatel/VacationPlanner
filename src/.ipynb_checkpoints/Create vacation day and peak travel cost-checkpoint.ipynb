{
 "cells": [
  {
   "cell_type": "markdown",
   "metadata": {},
   "source": [
    "# Create peak travel and holiday cost\n",
    "\n",
    "\n",
    "While there are some direct costs associated with traveling like airplane tickets, Airbnb accommodation, food, car rental, etc., there are also two more costs that I consider over here:\n",
    "\n",
    "1. **Vacation day cost:** I put a cost on every vacation day that I need to use for the trip. This would push the optimization to utilize weekends over weekdays. I don't want to waste my weekends. But at the same time, if it is significantly cheaper and more convenient to travel over weekdays, the algorithm would still consider it. \n",
    "\n",
    "2. **Peak travel time cost:**  Many people travel around Holidays or weekends making everything busy. Skiing is less fun when you have to wait for 30 minutes for the ski lift after every run. There is an *inconvenience cost* associated with it.  Moreover, even things like lift tickets become more expensive in the peak vacation time. So I account for these factors in my analysis and call it as peak travel time cost. "
   ]
  },
  {
   "cell_type": "code",
   "execution_count": 1,
   "metadata": {},
   "outputs": [],
   "source": [
    "import numpy as np\n",
    "import pandas as pd\n",
    "import matplotlib.pyplot as plt\n",
    "import seaborn as sns\n",
    "%matplotlib inline"
   ]
  },
  {
   "cell_type": "markdown",
   "metadata": {},
   "source": [
    "## Date range\n",
    "\n",
    "I fixe my potential ski trip dates between 15th December 2018 to 21st April 2019. "
   ]
  },
  {
   "cell_type": "code",
   "execution_count": 2,
   "metadata": {},
   "outputs": [
    {
     "name": "stdout",
     "output_type": "stream",
     "text": [
      "<class 'pandas.core.frame.DataFrame'>\n",
      "DatetimeIndex: 128 entries, 2018-12-15 to 2019-04-21\n",
      "Data columns (total 1 columns):\n",
      "day    128 non-null object\n",
      "dtypes: object(1)\n",
      "memory usage: 2.0+ KB\n"
     ]
    }
   ],
   "source": [
    "# Initiate a dataframe between potential ski trip days\n",
    "df = pd.DataFrame(data={'date':pd.date_range(start='2018-12-15', end='2019-04-21')})\n",
    "df['day'] = df['date'].dt.day_name()\n",
    "df= df.set_index('date')\n",
    "df.info()"
   ]
  },
  {
   "cell_type": "markdown",
   "metadata": {},
   "source": [
    "## Vacation day cost\n",
    "\n",
    "As a PhD student, my vacation policy is pretty flexible, as long as I get my work done. Still, I don't prefer taking break over weekday. So I put a cost of $50 for every weekday I use. As a PhD student, my salary is low compared to normal jobs. This number would depend your salary. \n",
    "\n",
    "I also set the vacation day cost to zero on the public holidays that Brown observes. "
   ]
  },
  {
   "cell_type": "code",
   "execution_count": 3,
   "metadata": {},
   "outputs": [
    {
     "data": {
      "text/html": [
       "<div>\n",
       "<style scoped>\n",
       "    .dataframe tbody tr th:only-of-type {\n",
       "        vertical-align: middle;\n",
       "    }\n",
       "\n",
       "    .dataframe tbody tr th {\n",
       "        vertical-align: top;\n",
       "    }\n",
       "\n",
       "    .dataframe thead th {\n",
       "        text-align: right;\n",
       "    }\n",
       "</style>\n",
       "<table border=\"1\" class=\"dataframe\">\n",
       "  <thead>\n",
       "    <tr style=\"text-align: right;\">\n",
       "      <th></th>\n",
       "      <th>day</th>\n",
       "      <th>vacation_day_cost</th>\n",
       "    </tr>\n",
       "    <tr>\n",
       "      <th>date</th>\n",
       "      <th></th>\n",
       "      <th></th>\n",
       "    </tr>\n",
       "  </thead>\n",
       "  <tbody>\n",
       "    <tr>\n",
       "      <th>2018-12-15</th>\n",
       "      <td>Saturday</td>\n",
       "      <td>0</td>\n",
       "    </tr>\n",
       "    <tr>\n",
       "      <th>2018-12-16</th>\n",
       "      <td>Sunday</td>\n",
       "      <td>0</td>\n",
       "    </tr>\n",
       "    <tr>\n",
       "      <th>2018-12-17</th>\n",
       "      <td>Monday</td>\n",
       "      <td>50</td>\n",
       "    </tr>\n",
       "    <tr>\n",
       "      <th>2018-12-18</th>\n",
       "      <td>Tuesday</td>\n",
       "      <td>50</td>\n",
       "    </tr>\n",
       "    <tr>\n",
       "      <th>2018-12-19</th>\n",
       "      <td>Wednesday</td>\n",
       "      <td>50</td>\n",
       "    </tr>\n",
       "    <tr>\n",
       "      <th>2018-12-20</th>\n",
       "      <td>Thursday</td>\n",
       "      <td>50</td>\n",
       "    </tr>\n",
       "    <tr>\n",
       "      <th>2018-12-21</th>\n",
       "      <td>Friday</td>\n",
       "      <td>50</td>\n",
       "    </tr>\n",
       "    <tr>\n",
       "      <th>2018-12-22</th>\n",
       "      <td>Saturday</td>\n",
       "      <td>0</td>\n",
       "    </tr>\n",
       "    <tr>\n",
       "      <th>2018-12-23</th>\n",
       "      <td>Sunday</td>\n",
       "      <td>0</td>\n",
       "    </tr>\n",
       "  </tbody>\n",
       "</table>\n",
       "</div>"
      ],
      "text/plain": [
       "                  day  vacation_day_cost\n",
       "date                                    \n",
       "2018-12-15   Saturday                  0\n",
       "2018-12-16     Sunday                  0\n",
       "2018-12-17     Monday                 50\n",
       "2018-12-18    Tuesday                 50\n",
       "2018-12-19  Wednesday                 50\n",
       "2018-12-20   Thursday                 50\n",
       "2018-12-21     Friday                 50\n",
       "2018-12-22   Saturday                  0\n",
       "2018-12-23     Sunday                  0"
      ]
     },
     "execution_count": 3,
     "metadata": {},
     "output_type": "execute_result"
    }
   ],
   "source": [
    "# Vacation day cost\n",
    "def vacation_day_cost(x):\n",
    "    if x in ['Monday', 'Tuesday', 'Wednesday', 'Thursday', 'Friday']:\n",
    "        return 50\n",
    "    else:\n",
    "        return 0    \n",
    "df['vacation_day_cost'] = df['day'].apply(vacation_day_cost)\n",
    "\n",
    "# Set the price to take a day off on  holidays offered by Brown to 0.\n",
    "brown_holidays = ['2018-12-24', '2018-12-25', '2019-1-1', '2019-1-21', '2019-2-18']\n",
    "df.loc[df.index.isin(brown_holidays), 'vacation_day_cost'] = 0\n",
    "df.head(9)"
   ]
  },
  {
   "cell_type": "markdown",
   "metadata": {},
   "source": [
    "## Peak travel time cost\n",
    "\n",
    "I divide this into two categories. Peak crowd during weekends and the crowd during holiday season. \n",
    "\n",
    "### Weekend crowd cost\n",
    "Lift tickets and eating out is usually more expensive over the weekend. Plus there inconvenience cost of the crowd. So I set a cost of $25 for every weekend day used in the trip."
   ]
  },
  {
   "cell_type": "code",
   "execution_count": 4,
   "metadata": {},
   "outputs": [
    {
     "data": {
      "text/html": [
       "<div>\n",
       "<style scoped>\n",
       "    .dataframe tbody tr th:only-of-type {\n",
       "        vertical-align: middle;\n",
       "    }\n",
       "\n",
       "    .dataframe tbody tr th {\n",
       "        vertical-align: top;\n",
       "    }\n",
       "\n",
       "    .dataframe thead th {\n",
       "        text-align: right;\n",
       "    }\n",
       "</style>\n",
       "<table border=\"1\" class=\"dataframe\">\n",
       "  <thead>\n",
       "    <tr style=\"text-align: right;\">\n",
       "      <th></th>\n",
       "      <th>day</th>\n",
       "      <th>vacation_day_cost</th>\n",
       "      <th>weekend_cost</th>\n",
       "    </tr>\n",
       "    <tr>\n",
       "      <th>date</th>\n",
       "      <th></th>\n",
       "      <th></th>\n",
       "      <th></th>\n",
       "    </tr>\n",
       "  </thead>\n",
       "  <tbody>\n",
       "    <tr>\n",
       "      <th>2018-12-15</th>\n",
       "      <td>Saturday</td>\n",
       "      <td>0</td>\n",
       "      <td>25</td>\n",
       "    </tr>\n",
       "    <tr>\n",
       "      <th>2018-12-16</th>\n",
       "      <td>Sunday</td>\n",
       "      <td>0</td>\n",
       "      <td>25</td>\n",
       "    </tr>\n",
       "    <tr>\n",
       "      <th>2018-12-17</th>\n",
       "      <td>Monday</td>\n",
       "      <td>50</td>\n",
       "      <td>0</td>\n",
       "    </tr>\n",
       "    <tr>\n",
       "      <th>2018-12-18</th>\n",
       "      <td>Tuesday</td>\n",
       "      <td>50</td>\n",
       "      <td>0</td>\n",
       "    </tr>\n",
       "    <tr>\n",
       "      <th>2018-12-19</th>\n",
       "      <td>Wednesday</td>\n",
       "      <td>50</td>\n",
       "      <td>0</td>\n",
       "    </tr>\n",
       "  </tbody>\n",
       "</table>\n",
       "</div>"
      ],
      "text/plain": [
       "                  day  vacation_day_cost  weekend_cost\n",
       "date                                                  \n",
       "2018-12-15   Saturday                  0            25\n",
       "2018-12-16     Sunday                  0            25\n",
       "2018-12-17     Monday                 50             0\n",
       "2018-12-18    Tuesday                 50             0\n",
       "2018-12-19  Wednesday                 50             0"
      ]
     },
     "execution_count": 4,
     "metadata": {},
     "output_type": "execute_result"
    }
   ],
   "source": [
    "# Weekend crowd cost\n",
    "def weekend_cost(x):\n",
    "    if x in ['Monday', 'Tuesday', 'Wednesday', 'Thursday', 'Friday']:\n",
    "        return 0\n",
    "    else:\n",
    "        return 25\n",
    "    \n",
    "df['weekend_cost'] = df['day'].apply(weekend_cost)\n",
    "df.head()"
   ]
  },
  {
   "cell_type": "markdown",
   "metadata": {},
   "source": [
    "### Holiday crowd cost\n",
    "\n",
    "Ski resorts are crowded with tourists during holiday seasons. So I would prefer to avoid going to resorts on such days even if it means I use more vacation days. \n",
    "\n",
    "From https://www.undercovertourist.com/blog/best-time-ski/ reports the falling days to be busy at ski resorts\n",
    "\n",
    "\n",
    "**Busiest Days to Ski in 2018-2019:**\n",
    "1. New Year's Eve — Dec. 26, 2018-Jan. 6, 2019\n",
    "2. MLK Day — Jan. 18-21, 2019\n",
    "3. President's Day — Feb. 15-24, 2019\n",
    "\n",
    "**Moderate Ski Crowds in 2018-2019:**\n",
    "1. Christmas — Dec. 19-25, 2018\n",
    "2. Spring Break — March 8-April 7, 2019"
   ]
  },
  {
   "cell_type": "code",
   "execution_count": 5,
   "metadata": {},
   "outputs": [
    {
     "data": {
      "text/html": [
       "<div>\n",
       "<style scoped>\n",
       "    .dataframe tbody tr th:only-of-type {\n",
       "        vertical-align: middle;\n",
       "    }\n",
       "\n",
       "    .dataframe tbody tr th {\n",
       "        vertical-align: top;\n",
       "    }\n",
       "\n",
       "    .dataframe thead th {\n",
       "        text-align: right;\n",
       "    }\n",
       "</style>\n",
       "<table border=\"1\" class=\"dataframe\">\n",
       "  <thead>\n",
       "    <tr style=\"text-align: right;\">\n",
       "      <th></th>\n",
       "      <th>day</th>\n",
       "      <th>vacation_day_cost</th>\n",
       "      <th>weekend_cost</th>\n",
       "      <th>holiday_crowd_cost</th>\n",
       "    </tr>\n",
       "    <tr>\n",
       "      <th>date</th>\n",
       "      <th></th>\n",
       "      <th></th>\n",
       "      <th></th>\n",
       "      <th></th>\n",
       "    </tr>\n",
       "  </thead>\n",
       "  <tbody>\n",
       "    <tr>\n",
       "      <th>2018-12-15</th>\n",
       "      <td>Saturday</td>\n",
       "      <td>0</td>\n",
       "      <td>25</td>\n",
       "      <td>0</td>\n",
       "    </tr>\n",
       "    <tr>\n",
       "      <th>2018-12-16</th>\n",
       "      <td>Sunday</td>\n",
       "      <td>0</td>\n",
       "      <td>25</td>\n",
       "      <td>0</td>\n",
       "    </tr>\n",
       "    <tr>\n",
       "      <th>2018-12-17</th>\n",
       "      <td>Monday</td>\n",
       "      <td>50</td>\n",
       "      <td>0</td>\n",
       "      <td>0</td>\n",
       "    </tr>\n",
       "    <tr>\n",
       "      <th>2018-12-18</th>\n",
       "      <td>Tuesday</td>\n",
       "      <td>50</td>\n",
       "      <td>0</td>\n",
       "      <td>0</td>\n",
       "    </tr>\n",
       "    <tr>\n",
       "      <th>2018-12-19</th>\n",
       "      <td>Wednesday</td>\n",
       "      <td>50</td>\n",
       "      <td>0</td>\n",
       "      <td>30</td>\n",
       "    </tr>\n",
       "  </tbody>\n",
       "</table>\n",
       "</div>"
      ],
      "text/plain": [
       "                  day  vacation_day_cost  weekend_cost  holiday_crowd_cost\n",
       "date                                                                      \n",
       "2018-12-15   Saturday                  0            25                   0\n",
       "2018-12-16     Sunday                  0            25                   0\n",
       "2018-12-17     Monday                 50             0                   0\n",
       "2018-12-18    Tuesday                 50             0                   0\n",
       "2018-12-19  Wednesday                 50             0                  30"
      ]
     },
     "execution_count": 5,
     "metadata": {},
     "output_type": "execute_result"
    }
   ],
   "source": [
    "df['holiday_crowd_cost'] = 0*df['weekend_cost']\n",
    "\n",
    "# New Years eve\n",
    "df.loc['2018-12-24':'2019-01-06', 'holiday_crowd_cost'] = 50\n",
    "\n",
    "# MLK Day\n",
    "df.loc['2019-01-18':'2019-01-21', 'holiday_crowd_cost'] = 50\n",
    "\n",
    "# Presidents Day\n",
    "df.loc['2019-02-15':'2019-02-24', 'holiday_crowd_cost'] = 40\n",
    "\n",
    "# Christmas\n",
    "df.loc['2018-12-19':'2018-12-23', 'holiday_crowd_cost'] = 30\n",
    "\n",
    "# Spring break\n",
    "df.loc['2019-03-08':'2019-04-07', 'holiday_crowd_cost'] = 10\n",
    "\n",
    "df.head()"
   ]
  },
  {
   "cell_type": "markdown",
   "metadata": {},
   "source": [
    "### Peak crowd cost\n",
    "\n",
    "Add weekend crowd cost and holiday crowd cost to get peak crowd travel "
   ]
  },
  {
   "cell_type": "code",
   "execution_count": 6,
   "metadata": {},
   "outputs": [],
   "source": [
    "df['peak_travel_cost'] = df['weekend_cost'] + df['holiday_crowd_cost']"
   ]
  },
  {
   "cell_type": "markdown",
   "metadata": {},
   "source": [
    "## Visualize peak travel and vacation day cost"
   ]
  },
  {
   "cell_type": "code",
   "execution_count": 7,
   "metadata": {},
   "outputs": [
    {
     "data": {
      "image/png": "[encoded data removed]",
      "text/plain": [
       "<Figure size 1080x432 with 1 Axes>"
      ]
     },
     "metadata": {
      "needs_background": "light"
     },
     "output_type": "display_data"
    }
   ],
   "source": [
    "labels = [\"Vacation day cost\", \"Peak travel cost\"]\n",
    "colors = ['#a6cee3', '#1f78b4']\n",
    "fig = plt.figure(figsize=(15,6))\n",
    "plt.rcParams.update({'font.size': 12})\n",
    "plt.stackplot(df.index, \n",
    "              df['vacation_day_cost'],\n",
    "              df['peak_travel_cost'],\n",
    "              labels=labels,\n",
    "              colors=colors, \n",
    "              alpha=0.75)\n",
    "plt.legend(fontsize=14)\n",
    "ax = fig.axes\n",
    "ax[0].spines['top'].set_visible(False)\n",
    "ax[0].spines['right'].set_visible(False)\n",
    "ax[0].set_yticklabels(['${0:0.0f}'.format(x) for x in ax[0].get_yticks()])\n",
    "fig.autofmt_xdate()\n",
    "ax[0].set_title('Peak travel and vacation day cost per day', fontsize=20);"
   ]
  },
  {
   "cell_type": "markdown",
   "metadata": {},
   "source": [
    "## Save cleaned data"
   ]
  },
  {
   "cell_type": "code",
   "execution_count": 8,
   "metadata": {},
   "outputs": [],
   "source": [
    "df.to_csv('../data/peaktravel_vacationday_cost.csv')"
   ]
  }
 ],
 "metadata": {
  "kernelspec": {
   "display_name": "Python 3",
   "language": "python",
   "name": "python3"
  },
  "language_info": {
   "codemirror_mode": {
    "name": "ipython",
    "version": 3
   },
   "file_extension": ".py",
   "mimetype": "text/x-python",
   "name": "python",
   "nbconvert_exporter": "python",
   "pygments_lexer": "ipython3",
   "version": "3.6.6"
  }
 },
 "nbformat": 4,
 "nbformat_minor": 2
}
