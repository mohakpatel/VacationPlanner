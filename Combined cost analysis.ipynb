{
 "cells": [
  {
   "cell_type": "markdown",
   "metadata": {},
   "source": [
    "# Combined Cost Analysis\n",
    "\n",
    "We is the fun part. Now I will know the best time for my ski trip. I'm already excited. \n",
    "\n",
    "I just need to combine data for a 4 night stay ski trip for possible travel start date between 15th December 2018 and 7th April 2019. "
   ]
  },
  {
   "cell_type": "code",
   "execution_count": 1,
   "metadata": {},
   "outputs": [],
   "source": [
    "import numpy as np\n",
    "import pandas as pd\n",
    "import matplotlib.pyplot as plt\n",
    "import seaborn as sns\n",
    "%matplotlib inline\n",
    "\n",
    "df = pd.DataFrame(data={'date':pd.date_range(start='2018-12-15', end='2019-04-07')})\n",
    "df['date'] = df['date'].astype(str)\n",
    "# df = df.set_index('date')\n",
    "# df['date'].head(1)"
   ]
  },
  {
   "cell_type": "markdown",
   "metadata": {},
   "source": [
    "## Airbnb accommodation data\n",
    "\n",
    "### Narrow down listing according to preferences\n",
    "First, I narrow down the listing according to following criteria:\n",
    "1. Number of people a listing accommodates: 2-4 (This would depend on how many people I am able to convince to join me on the trip).\n",
    "2. Minimum listing rating of: 80\n",
    "3. Room type: Entire home/apt"
   ]
  },
  {
   "cell_type": "code",
   "execution_count": 2,
   "metadata": {},
   "outputs": [],
   "source": [
    "listing = pd.read_csv('../../Data/VacationPlanner/advanced_listing.csv')\n",
    "idx = ((listing['accommodates'] >= 2) &\n",
    "       (listing['accommodates'] <= 4) &\n",
    "       (listing['review_scores_rating'] >= 90) &\n",
    "       (listing['room_type'] >= 'Entire home/apt'))\n",
    "\n",
    "selected_listing_id = listing[idx]['id']\n",
    "listing = listing.set_index('id')"
   ]
  },
  {
   "cell_type": "markdown",
   "metadata": {},
   "source": [
    "### Narrow down calendar price data to selected listing id"
   ]
  },
  {
   "cell_type": "code",
   "execution_count": 3,
   "metadata": {},
   "outputs": [
    {
     "name": "stdout",
     "output_type": "stream",
     "text": [
      "<class 'pandas.core.frame.DataFrame'>\n",
      "Int64Index: 121404 entries, 151 to 262739\n",
      "Data columns (total 4 columns):\n",
      "Unnamed: 0    121404 non-null int64\n",
      "id            121404 non-null int64\n",
      "date          121404 non-null object\n",
      "price         111671 non-null float64\n",
      "dtypes: float64(1), int64(2), object(1)\n",
      "memory usage: 4.6+ MB\n"
     ]
    }
   ],
   "source": [
    "calendar = pd.read_csv('../../Data/VacationPlanner/advanced_calendar.csv')\n",
    "calendar = calendar[calendar['id'].isin(selected_listing_id)]\n",
    "calendar.head()\n",
    "calendar.info()"
   ]
  },
  {
   "cell_type": "markdown",
   "metadata": {},
   "source": [
    "### Compile total median Airbnb cost \n",
    "\n",
    "For each start date between 15th December 2018 and 7th April 2019, compile the total median cost of all the listing in which I could potentially stay for 4 consecutive nights\n"
   ]
  },
  {
   "cell_type": "code",
   "execution_count": 4,
   "metadata": {},
   "outputs": [],
   "source": [
    "def median_airbnb_cost(start_date):\n",
    "    \n",
    "    # Find end date\n",
    "    df_ = pd.DataFrame(data={'date':pd.date_range(start=start_date, periods=4)})\n",
    "    end_date = df_['date'].astype(str).tolist()[-1]\n",
    "    \n",
    "    # Collect all listing between start and end date\n",
    "    sub_calendar = calendar[(calendar['date'] >= start_date) &\n",
    "                           (calendar['date'] <= end_date)]\n",
    "    \n",
    "    # Find listings which are not available for all the 4 nights\n",
    "    invalid_id = sub_calendar[sub_calendar['price'].isnull()]['id'].unique()\n",
    "    \n",
    "    # Sum of price to stay at a listing\n",
    "    df_local = sub_calendar.groupby('id').sum()\n",
    "    \n",
    "    # Remove invalid id\n",
    "    df_local = df_local[~df_local.index.isin(invalid_id)]\n",
    "    \n",
    "    # Compure price person for the valid listings\n",
    "    df_local['id'] = df_local.index\n",
    "    df_local.reset_index(drop=True)\n",
    "    df_local['cleaning_fee'] = df_local['id'].apply(lambda x: listing.loc[x, 'cleaning_fee'])\n",
    "    df_local['accommodates'] = df_local['id'].apply(lambda x: listing.loc[x, 'accommodates'])\n",
    "    df_local['price'] = (df_local['price'] + df_local['cleaning_fee'])/df_local['accommodates']\n",
    "    \n",
    "    return df_local['price'].median()\n",
    "\n",
    "df['Airbnb_cost'] = df['date'].apply(median_airbnb_cost)"
   ]
  },
  {
   "cell_type": "code",
   "execution_count": 5,
   "metadata": {},
   "outputs": [
    {
     "data": {
      "text/html": [
       "<div>\n",
       "<style scoped>\n",
       "    .dataframe tbody tr th:only-of-type {\n",
       "        vertical-align: middle;\n",
       "    }\n",
       "\n",
       "    .dataframe tbody tr th {\n",
       "        vertical-align: top;\n",
       "    }\n",
       "\n",
       "    .dataframe thead th {\n",
       "        text-align: right;\n",
       "    }\n",
       "</style>\n",
       "<table border=\"1\" class=\"dataframe\">\n",
       "  <thead>\n",
       "    <tr style=\"text-align: right;\">\n",
       "      <th></th>\n",
       "      <th>date</th>\n",
       "      <th>Airbnb_cost</th>\n",
       "    </tr>\n",
       "  </thead>\n",
       "  <tbody>\n",
       "    <tr>\n",
       "      <th>0</th>\n",
       "      <td>2018-12-15</td>\n",
       "      <td>148.333333</td>\n",
       "    </tr>\n",
       "    <tr>\n",
       "      <th>1</th>\n",
       "      <td>2018-12-16</td>\n",
       "      <td>147.250000</td>\n",
       "    </tr>\n",
       "    <tr>\n",
       "      <th>2</th>\n",
       "      <td>2018-12-17</td>\n",
       "      <td>147.000000</td>\n",
       "    </tr>\n",
       "    <tr>\n",
       "      <th>3</th>\n",
       "      <td>2018-12-18</td>\n",
       "      <td>147.500000</td>\n",
       "    </tr>\n",
       "    <tr>\n",
       "      <th>4</th>\n",
       "      <td>2018-12-19</td>\n",
       "      <td>150.000000</td>\n",
       "    </tr>\n",
       "  </tbody>\n",
       "</table>\n",
       "</div>"
      ],
      "text/plain": [
       "         date  Airbnb_cost\n",
       "0  2018-12-15   148.333333\n",
       "1  2018-12-16   147.250000\n",
       "2  2018-12-17   147.000000\n",
       "3  2018-12-18   147.500000\n",
       "4  2018-12-19   150.000000"
      ]
     },
     "execution_count": 5,
     "metadata": {},
     "output_type": "execute_result"
    }
   ],
   "source": [
    "# plt.plot(df['date'], df['Airbnb cost'])\n",
    "df.head()"
   ]
  },
  {
   "cell_type": "markdown",
   "metadata": {},
   "source": [
    "## Flight price data\n",
    "\n",
    "To df add the flight price for the given start date with 4 nights of stay"
   ]
  },
  {
   "cell_type": "code",
   "execution_count": 6,
   "metadata": {},
   "outputs": [
    {
     "data": {
      "text/html": [
       "<div>\n",
       "<style scoped>\n",
       "    .dataframe tbody tr th:only-of-type {\n",
       "        vertical-align: middle;\n",
       "    }\n",
       "\n",
       "    .dataframe tbody tr th {\n",
       "        vertical-align: top;\n",
       "    }\n",
       "\n",
       "    .dataframe thead th {\n",
       "        text-align: right;\n",
       "    }\n",
       "</style>\n",
       "<table border=\"1\" class=\"dataframe\">\n",
       "  <thead>\n",
       "    <tr style=\"text-align: right;\">\n",
       "      <th></th>\n",
       "      <th>date</th>\n",
       "      <th>Airbnb_cost</th>\n",
       "      <th>fly_Madison</th>\n",
       "      <th>fly_Chicago</th>\n",
       "    </tr>\n",
       "  </thead>\n",
       "  <tbody>\n",
       "    <tr>\n",
       "      <th>0</th>\n",
       "      <td>2018-12-15</td>\n",
       "      <td>148.333333</td>\n",
       "      <td>261.0</td>\n",
       "      <td>277.0</td>\n",
       "    </tr>\n",
       "    <tr>\n",
       "      <th>1</th>\n",
       "      <td>2018-12-16</td>\n",
       "      <td>147.250000</td>\n",
       "      <td>267.0</td>\n",
       "      <td>312.0</td>\n",
       "    </tr>\n",
       "    <tr>\n",
       "      <th>2</th>\n",
       "      <td>2018-12-17</td>\n",
       "      <td>147.000000</td>\n",
       "      <td>415.0</td>\n",
       "      <td>305.0</td>\n",
       "    </tr>\n",
       "    <tr>\n",
       "      <th>3</th>\n",
       "      <td>2018-12-18</td>\n",
       "      <td>147.500000</td>\n",
       "      <td>261.0</td>\n",
       "      <td>332.0</td>\n",
       "    </tr>\n",
       "    <tr>\n",
       "      <th>4</th>\n",
       "      <td>2018-12-19</td>\n",
       "      <td>150.000000</td>\n",
       "      <td>381.0</td>\n",
       "      <td>287.0</td>\n",
       "    </tr>\n",
       "  </tbody>\n",
       "</table>\n",
       "</div>"
      ],
      "text/plain": [
       "         date  Airbnb_cost  fly_Madison  fly_Chicago\n",
       "0  2018-12-15   148.333333        261.0        277.0\n",
       "1  2018-12-16   147.250000        267.0        312.0\n",
       "2  2018-12-17   147.000000        415.0        305.0\n",
       "3  2018-12-18   147.500000        261.0        332.0\n",
       "4  2018-12-19   150.000000        381.0        287.0"
      ]
     },
     "execution_count": 6,
     "metadata": {},
     "output_type": "execute_result"
    }
   ],
   "source": [
    "flight_price = pd.read_csv('../../Data/VacationPlanner/flight_price.csv')\n",
    "flight_price = flight_price.set_index('date')\n",
    "\n",
    "df['fly_Madison'] = df['date'].apply(lambda x: flight_price.loc[x, 'Madison'])\n",
    "df['fly_Chicago'] = df['date'].apply(lambda x: flight_price.loc[x, 'Chicago'])\n",
    "\n",
    "df.head()"
   ]
  },
  {
   "cell_type": "markdown",
   "metadata": {},
   "source": [
    "## Vacation day and Peak travel cost\n",
    "\n",
    "To add the per day vacation day and peak travel cost for 5 days during the trip. "
   ]
  },
  {
   "cell_type": "code",
   "execution_count": 7,
   "metadata": {},
   "outputs": [
    {
     "data": {
      "text/html": [
       "<div>\n",
       "<style scoped>\n",
       "    .dataframe tbody tr th:only-of-type {\n",
       "        vertical-align: middle;\n",
       "    }\n",
       "\n",
       "    .dataframe tbody tr th {\n",
       "        vertical-align: top;\n",
       "    }\n",
       "\n",
       "    .dataframe thead th {\n",
       "        text-align: right;\n",
       "    }\n",
       "</style>\n",
       "<table border=\"1\" class=\"dataframe\">\n",
       "  <thead>\n",
       "    <tr style=\"text-align: right;\">\n",
       "      <th></th>\n",
       "      <th>date</th>\n",
       "      <th>Airbnb_cost</th>\n",
       "      <th>fly_Madison</th>\n",
       "      <th>fly_Chicago</th>\n",
       "      <th>other_cost</th>\n",
       "    </tr>\n",
       "  </thead>\n",
       "  <tbody>\n",
       "    <tr>\n",
       "      <th>0</th>\n",
       "      <td>2018-12-15</td>\n",
       "      <td>148.333333</td>\n",
       "      <td>261.0</td>\n",
       "      <td>277.0</td>\n",
       "      <td>230</td>\n",
       "    </tr>\n",
       "    <tr>\n",
       "      <th>1</th>\n",
       "      <td>2018-12-16</td>\n",
       "      <td>147.250000</td>\n",
       "      <td>267.0</td>\n",
       "      <td>312.0</td>\n",
       "      <td>285</td>\n",
       "    </tr>\n",
       "    <tr>\n",
       "      <th>2</th>\n",
       "      <td>2018-12-17</td>\n",
       "      <td>147.000000</td>\n",
       "      <td>415.0</td>\n",
       "      <td>305.0</td>\n",
       "      <td>340</td>\n",
       "    </tr>\n",
       "    <tr>\n",
       "      <th>3</th>\n",
       "      <td>2018-12-18</td>\n",
       "      <td>147.500000</td>\n",
       "      <td>261.0</td>\n",
       "      <td>332.0</td>\n",
       "      <td>345</td>\n",
       "    </tr>\n",
       "    <tr>\n",
       "      <th>4</th>\n",
       "      <td>2018-12-19</td>\n",
       "      <td>150.000000</td>\n",
       "      <td>381.0</td>\n",
       "      <td>287.0</td>\n",
       "      <td>350</td>\n",
       "    </tr>\n",
       "  </tbody>\n",
       "</table>\n",
       "</div>"
      ],
      "text/plain": [
       "         date  Airbnb_cost  fly_Madison  fly_Chicago  other_cost\n",
       "0  2018-12-15   148.333333        261.0        277.0         230\n",
       "1  2018-12-16   147.250000        267.0        312.0         285\n",
       "2  2018-12-17   147.000000        415.0        305.0         340\n",
       "3  2018-12-18   147.500000        261.0        332.0         345\n",
       "4  2018-12-19   150.000000        381.0        287.0         350"
      ]
     },
     "execution_count": 7,
     "metadata": {},
     "output_type": "execute_result"
    }
   ],
   "source": [
    "vacationday_peaktravel = pd.read_csv('../../Data/VacationPlanner/peaktravel_vacationday_cost.csv')\n",
    "vacationday_peaktravel = vacationday_peaktravel.set_index('date')\n",
    "\n",
    "def cumulative_cost(start_date):\n",
    "    \n",
    "    # Find end date\n",
    "    df_ = pd.DataFrame(data={'date':pd.date_range(start=start_date, periods=5)})\n",
    "    end_date = df_['date'].astype(str).tolist()[-1]\n",
    "    \n",
    "    # Slice all cost between start and end date\n",
    "    sub_df = vacationday_peaktravel.loc[start_date:end_date, ['vacation_day_cost', 'peak_travel_cost']]\n",
    "    \n",
    "    return sub_df.sum().sum()\n",
    "\n",
    "df['other_cost'] = df['date'].apply(cumulative_cost)\n",
    "\n",
    "df.head()"
   ]
  },
  {
   "cell_type": "markdown",
   "metadata": {},
   "source": [
    "## Weather data\n",
    "\n",
    "Collect the snowth depth and average temperature data for all the dates in trip planning range."
   ]
  },
  {
   "cell_type": "code",
   "execution_count": 8,
   "metadata": {},
   "outputs": [
    {
     "data": {
      "text/html": [
       "<div>\n",
       "<style scoped>\n",
       "    .dataframe tbody tr th:only-of-type {\n",
       "        vertical-align: middle;\n",
       "    }\n",
       "\n",
       "    .dataframe tbody tr th {\n",
       "        vertical-align: top;\n",
       "    }\n",
       "\n",
       "    .dataframe thead th {\n",
       "        text-align: right;\n",
       "    }\n",
       "</style>\n",
       "<table border=\"1\" class=\"dataframe\">\n",
       "  <thead>\n",
       "    <tr style=\"text-align: right;\">\n",
       "      <th></th>\n",
       "      <th>date</th>\n",
       "      <th>Airbnb_cost</th>\n",
       "      <th>fly_Madison</th>\n",
       "      <th>fly_Chicago</th>\n",
       "      <th>other_cost</th>\n",
       "      <th>snwd</th>\n",
       "      <th>temp</th>\n",
       "      <th>snwd_std</th>\n",
       "      <th>temp_std</th>\n",
       "    </tr>\n",
       "  </thead>\n",
       "  <tbody>\n",
       "    <tr>\n",
       "      <th>0</th>\n",
       "      <td>2018-12-15</td>\n",
       "      <td>148.333333</td>\n",
       "      <td>261.0</td>\n",
       "      <td>277.0</td>\n",
       "      <td>230</td>\n",
       "      <td>12.275755</td>\n",
       "      <td>-4.920127</td>\n",
       "      <td>6.828423</td>\n",
       "      <td>4.880020</td>\n",
       "    </tr>\n",
       "    <tr>\n",
       "      <th>1</th>\n",
       "      <td>2018-12-16</td>\n",
       "      <td>147.250000</td>\n",
       "      <td>267.0</td>\n",
       "      <td>312.0</td>\n",
       "      <td>285</td>\n",
       "      <td>12.834855</td>\n",
       "      <td>-5.082164</td>\n",
       "      <td>8.253375</td>\n",
       "      <td>4.865153</td>\n",
       "    </tr>\n",
       "    <tr>\n",
       "      <th>2</th>\n",
       "      <td>2018-12-17</td>\n",
       "      <td>147.000000</td>\n",
       "      <td>415.0</td>\n",
       "      <td>305.0</td>\n",
       "      <td>340</td>\n",
       "      <td>13.236365</td>\n",
       "      <td>-5.323830</td>\n",
       "      <td>8.451981</td>\n",
       "      <td>4.845598</td>\n",
       "    </tr>\n",
       "    <tr>\n",
       "      <th>3</th>\n",
       "      <td>2018-12-18</td>\n",
       "      <td>147.500000</td>\n",
       "      <td>261.0</td>\n",
       "      <td>332.0</td>\n",
       "      <td>345</td>\n",
       "      <td>13.623114</td>\n",
       "      <td>-5.404386</td>\n",
       "      <td>8.662577</td>\n",
       "      <td>4.740186</td>\n",
       "    </tr>\n",
       "    <tr>\n",
       "      <th>4</th>\n",
       "      <td>2018-12-19</td>\n",
       "      <td>150.000000</td>\n",
       "      <td>381.0</td>\n",
       "      <td>287.0</td>\n",
       "      <td>350</td>\n",
       "      <td>14.000591</td>\n",
       "      <td>-5.375682</td>\n",
       "      <td>8.825957</td>\n",
       "      <td>4.654949</td>\n",
       "    </tr>\n",
       "  </tbody>\n",
       "</table>\n",
       "</div>"
      ],
      "text/plain": [
       "         date  Airbnb_cost  fly_Madison  fly_Chicago  other_cost       snwd  \\\n",
       "0  2018-12-15   148.333333        261.0        277.0         230  12.275755   \n",
       "1  2018-12-16   147.250000        267.0        312.0         285  12.834855   \n",
       "2  2018-12-17   147.000000        415.0        305.0         340  13.236365   \n",
       "3  2018-12-18   147.500000        261.0        332.0         345  13.623114   \n",
       "4  2018-12-19   150.000000        381.0        287.0         350  14.000591   \n",
       "\n",
       "       temp  snwd_std  temp_std  \n",
       "0 -4.920127  6.828423  4.880020  \n",
       "1 -5.082164  8.253375  4.865153  \n",
       "2 -5.323830  8.451981  4.845598  \n",
       "3 -5.404386  8.662577  4.740186  \n",
       "4 -5.375682  8.825957  4.654949  "
      ]
     },
     "execution_count": 8,
     "metadata": {},
     "output_type": "execute_result"
    }
   ],
   "source": [
    "weather = pd.read_csv('../../Data/VacationPlanner/weather_trend.csv')\n",
    "weather = weather.set_index('date')\n",
    "\n",
    "df['snwd'] = df['date'].apply(lambda x: weather.loc[x, 'SNWD'])\n",
    "df['temp'] = df['date'].apply(lambda x: weather.loc[x, 'TAVG'])\n",
    "df['snwd_std'] = df['date'].apply(lambda x: weather.loc[x, 'SNWD_STD'])\n",
    "df['temp_std'] = df['date'].apply(lambda x: weather.loc[x, 'TAVG_STD'])\n",
    "\n",
    "df.head()"
   ]
  },
  {
   "cell_type": "markdown",
   "metadata": {},
   "source": [
    "### Total cost to fly from Madison or Chicago"
   ]
  },
  {
   "cell_type": "code",
   "execution_count": 9,
   "metadata": {},
   "outputs": [],
   "source": [
    "df['Madison'] = df['fly_Madison'] + df['other_cost'] + df['Airbnb_cost']\n",
    "df['Chicago'] = df['fly_Chicago'] + df['other_cost'] + df['Airbnb_cost']"
   ]
  },
  {
   "cell_type": "markdown",
   "metadata": {},
   "source": [
    "## Find the cheapest travel start date"
   ]
  },
  {
   "cell_type": "code",
   "execution_count": 25,
   "metadata": {},
   "outputs": [],
   "source": [
    "cheapest_price = df[['Madison', 'Chicago']].min().min()\n"
   ]
  },
  {
   "cell_type": "markdown",
   "metadata": {},
   "source": [
    "# Visualize"
   ]
  },
  {
   "cell_type": "code",
   "execution_count": 30,
   "metadata": {},
   "outputs": [
    {
     "data": {
      "image/png": "[encoded data removed]",
      "text/plain": [
       "<Figure size 1080x720 with 2 Axes>"
      ]
     },
     "metadata": {
      "needs_background": "light"
     },
     "output_type": "display_data"
    }
   ],
   "source": [
    "fig, ax = plt.subplots(2,1, sharex=True, figsize = (15,10),\n",
    "                        gridspec_kw = {'height_ratios':[3, 1.2]})\n",
    "plt.rcParams.update({'font.size': 14})\n",
    "\n",
    "# First subplot has stacked price cost for line plot for flight ticket from Madison and Chicago\n",
    "labels = [\"Airbnb cost\", \"Other cost\"]\n",
    "colors = ['#a6cee3', '#1f78b4']\n",
    "\n",
    "ax[0].stackplot(df['date'], \n",
    "                df['Airbnb_cost'],\n",
    "                df['other_cost'],\n",
    "                labels=labels,\n",
    "                colors=colors, \n",
    "                alpha=0.75)\n",
    "ax[0].plot(df['date'], df['Madison'], 'k', color='#a1d99b', linewidth=3)\n",
    "ax[0].plot(df['date'], df['Chicago'], 'k', color='#fdae6b', linewidth=3)\n",
    "ax[0].plot(df['date'], 0*df['Madison']+cheapest_price+50, ':k', alpha=0.4)\n",
    "ax[0].legend(fontsize=14, loc='upper right')\n",
    "ax[0].spines[\"top\"].set_visible(False)\n",
    "ax[0].spines[\"right\"].set_visible(False)\n",
    "ax[0].spines[\"bottom\"].set_visible(False)\n",
    "ax[0].set_yticklabels(['${0:0.0f}'.format(x) for x in ax[0].get_yticks()])\n",
    "\n",
    "# Draw snowdepth plot\n",
    "lower = df['snwd'] - df['snwd_std']\n",
    "lower[lower<0] = 0\n",
    "upper = df['snwd'] + df['snwd_std']\n",
    "# ax[1].fill_between(df['date'], lower*0, df['snwd'],\n",
    "#             alpha=0.1, facecolor='#deebf7')\n",
    "# ax[1].fill_between(df['date'], df['snwd'], upper,\n",
    "#             alpha=0.1, facecolor='#f7fbff')\n",
    "ax[1].plot(df['date'], lower, '--', color='#9ecae1')\n",
    "ax[1].plot(df['date'], upper, '--', color='#9ecae1')\n",
    "ax[1].plot(df['date'], df['snwd'], 'k', color='#4292c6')\n",
    "ax[1].spines[\"top\"].set_visible(False)\n",
    "ax[1].spines[\"right\"].set_visible(False)\n",
    "ax[1].set_ylabel('Snow depth (inches)', fontdict={'size':14});\n",
    "ax[1].set_ylim(0,50)\n",
    "\n",
    "xticks = ['2018-12-15', '2019-01-01', '2019-01-15', '2019-02-01', '2019-02-15', '2019-03-01', \n",
    "          '2019-03-15', '2019-04-01']\n",
    "ax[1].set_xticks(xticks)\n",
    "\n",
    "fig.autofmt_xdate()"
   ]
  },
  {
   "cell_type": "code",
   "execution_count": null,
   "metadata": {},
   "outputs": [],
   "source": []
  }
 ],
 "metadata": {
  "kernelspec": {
   "display_name": "Python 3",
   "language": "python",
   "name": "python3"
  },
  "language_info": {
   "codemirror_mode": {
    "name": "ipython",
    "version": 3
   },
   "file_extension": ".py",
   "mimetype": "text/x-python",
   "name": "python",
   "nbconvert_exporter": "python",
   "pygments_lexer": "ipython3",
   "version": "3.6.6"
  }
 },
 "nbformat": 4,
 "nbformat_minor": 2
}
