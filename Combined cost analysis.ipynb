{
 "cells": [
  {
   "cell_type": "markdown",
   "metadata": {},
   "source": [
    "# Combined Cost Analysis\n",
    "\n",
    "We is the fun part. Now I will know the best time for my ski trip. I'm already excited. \n",
    "\n",
    "I just need to combine data for a 4 night stay ski trip for possible travel start date between 15th December 2018 and 7th April 2019. "
   ]
  },
  {
   "cell_type": "code",
   "execution_count": 1,
   "metadata": {},
   "outputs": [
    {
     "name": "stdout",
     "output_type": "stream",
     "text": [
      "<class 'pandas.core.frame.DataFrame'>\n",
      "RangeIndex: 128 entries, 0 to 127\n",
      "Data columns (total 1 columns):\n",
      "date    128 non-null datetime64[ns]\n",
      "dtypes: datetime64[ns](1)\n",
      "memory usage: 1.1 KB\n"
     ]
    }
   ],
   "source": [
    "import numpy as np\n",
    "import pandas as pd\n",
    "import matplotlib.pyplot as plt\n",
    "import seaborn as sns\n",
    "%matplotlib inline\n",
    "\n",
    "df = pd.DataFrame(data={'date':pd.date_range(start='2018-12-15', end='2019-04-21')})\n",
    "df.info()\n",
    "# df = df.set_index('date')\n",
    "# df['date'].head(1)"
   ]
  },
  {
   "cell_type": "markdown",
   "metadata": {},
   "source": [
    "## Airbnb accommodation data\n",
    "\n",
    "### Narrow down listing according to preferences\n",
    "First, I narrow down the listing according to following criteria:\n",
    "1. Number of people a listing accommodates: 2-4 (This would depend on how many people I am able to convince to join me on the trip).\n",
    "2. Minimum listing rating of: 80\n",
    "3. Room type: Entire home/apt"
   ]
  },
  {
   "cell_type": "code",
   "execution_count": 2,
   "metadata": {},
   "outputs": [],
   "source": [
    "listing = pd.read_csv('../../Data/VacationPlanner/advanced_listing.csv')\n",
    "idx = ((listing['accommodates'] >= 2) &\n",
    "       (listing['accommodates'] <= 4) &\n",
    "       (listing['review_scores_rating'] >= 90) &\n",
    "       (listing['room_type'] >= 'Entire home/apt'))\n",
    "\n",
    "selected_listing_id = listing[idx]['id']\n",
    "listing = listing.set_index('id')"
   ]
  },
  {
   "cell_type": "markdown",
   "metadata": {},
   "source": [
    "### Narrow down calendar price data to selected listing id"
   ]
  },
  {
   "cell_type": "code",
   "execution_count": 3,
   "metadata": {},
   "outputs": [
    {
     "name": "stdout",
     "output_type": "stream",
     "text": [
      "<class 'pandas.core.frame.DataFrame'>\n",
      "Int64Index: 121404 entries, 151 to 262739\n",
      "Data columns (total 4 columns):\n",
      "Unnamed: 0    121404 non-null int64\n",
      "id            121404 non-null int64\n",
      "date          121404 non-null object\n",
      "price         111671 non-null float64\n",
      "dtypes: float64(1), int64(2), object(1)\n",
      "memory usage: 4.6+ MB\n"
     ]
    }
   ],
   "source": [
    "calendar = pd.read_csv('../../Data/VacationPlanner/advanced_calendar.csv')\n",
    "calendar = calendar[calendar['id'].isin(selected_listing_id)]\n",
    "calendar.head()\n",
    "calendar.info()"
   ]
  },
  {
   "cell_type": "markdown",
   "metadata": {},
   "source": [
    "### Compile total median Airbnb cost \n",
    "\n",
    "For each start date between 15th December 2018 and 7th April 2019, compile the total median cost of all the listing in which I could potentially stay for 4 consecutive nights\n"
   ]
  },
  {
   "cell_type": "code",
   "execution_count": 4,
   "metadata": {},
   "outputs": [],
   "source": [
    "def median_airbnb_cost(start_date):\n",
    "    \n",
    "    # Formating for start and end date\n",
    "    start_date = str(start_date)[:10]\n",
    "    df_ = pd.DataFrame(data={'date':pd.date_range(start=start_date, periods=4)})\n",
    "    end_date = df_['date'].astype(str).tolist()[-1]\n",
    "    \n",
    "    # Collect all listing between start and end date\n",
    "    sub_calendar = calendar[(calendar['date'] >= start_date) &\n",
    "                           (calendar['date'] <= end_date)]\n",
    "    \n",
    "    # Find listings which are not available for all the 4 nights\n",
    "    invalid_id = sub_calendar[sub_calendar['price'].isnull()]['id'].unique()\n",
    "    \n",
    "    # Sum of price to stay at a listing\n",
    "    df_local = sub_calendar.groupby('id').sum()\n",
    "    \n",
    "    # Remove invalid id\n",
    "    df_local = df_local[~df_local.index.isin(invalid_id)]\n",
    "    \n",
    "    # Compure price person for the valid listings\n",
    "    df_local['id'] = df_local.index\n",
    "    df_local.reset_index(drop=True)\n",
    "    df_local['cleaning_fee'] = df_local['id'].apply(lambda x: listing.loc[x, 'cleaning_fee'])\n",
    "    df_local['accommodates'] = df_local['id'].apply(lambda x: listing.loc[x, 'accommodates'])\n",
    "    df_local['price'] = (df_local['price'] + df_local['cleaning_fee'])/df_local['accommodates']\n",
    "    \n",
    "    return df_local['price'].median()\n",
    "\n",
    "df['Airbnb_cost'] = df['date'].apply(median_airbnb_cost)"
   ]
  },
  {
   "cell_type": "code",
   "execution_count": 5,
   "metadata": {},
   "outputs": [
    {
     "data": {
      "text/html": [
       "<div>\n",
       "<style scoped>\n",
       "    .dataframe tbody tr th:only-of-type {\n",
       "        vertical-align: middle;\n",
       "    }\n",
       "\n",
       "    .dataframe tbody tr th {\n",
       "        vertical-align: top;\n",
       "    }\n",
       "\n",
       "    .dataframe thead th {\n",
       "        text-align: right;\n",
       "    }\n",
       "</style>\n",
       "<table border=\"1\" class=\"dataframe\">\n",
       "  <thead>\n",
       "    <tr style=\"text-align: right;\">\n",
       "      <th></th>\n",
       "      <th>date</th>\n",
       "      <th>Airbnb_cost</th>\n",
       "    </tr>\n",
       "  </thead>\n",
       "  <tbody>\n",
       "    <tr>\n",
       "      <th>0</th>\n",
       "      <td>2018-12-15</td>\n",
       "      <td>148.333333</td>\n",
       "    </tr>\n",
       "    <tr>\n",
       "      <th>1</th>\n",
       "      <td>2018-12-16</td>\n",
       "      <td>147.250000</td>\n",
       "    </tr>\n",
       "    <tr>\n",
       "      <th>2</th>\n",
       "      <td>2018-12-17</td>\n",
       "      <td>147.000000</td>\n",
       "    </tr>\n",
       "    <tr>\n",
       "      <th>3</th>\n",
       "      <td>2018-12-18</td>\n",
       "      <td>147.500000</td>\n",
       "    </tr>\n",
       "    <tr>\n",
       "      <th>4</th>\n",
       "      <td>2018-12-19</td>\n",
       "      <td>150.000000</td>\n",
       "    </tr>\n",
       "  </tbody>\n",
       "</table>\n",
       "</div>"
      ],
      "text/plain": [
       "        date  Airbnb_cost\n",
       "0 2018-12-15   148.333333\n",
       "1 2018-12-16   147.250000\n",
       "2 2018-12-17   147.000000\n",
       "3 2018-12-18   147.500000\n",
       "4 2018-12-19   150.000000"
      ]
     },
     "execution_count": 5,
     "metadata": {},
     "output_type": "execute_result"
    }
   ],
   "source": [
    "# plt.plot(df['date'], df['Airbnb cost'])\n",
    "df.head()"
   ]
  },
  {
   "cell_type": "markdown",
   "metadata": {},
   "source": [
    "## Flight price data\n",
    "\n",
    "To df add the flight price for the given start date with 4 nights of stay"
   ]
  },
  {
   "cell_type": "code",
   "execution_count": 10,
   "metadata": {},
   "outputs": [
    {
     "data": {
      "text/html": [
       "<div>\n",
       "<style scoped>\n",
       "    .dataframe tbody tr th:only-of-type {\n",
       "        vertical-align: middle;\n",
       "    }\n",
       "\n",
       "    .dataframe tbody tr th {\n",
       "        vertical-align: top;\n",
       "    }\n",
       "\n",
       "    .dataframe thead th {\n",
       "        text-align: right;\n",
       "    }\n",
       "</style>\n",
       "<table border=\"1\" class=\"dataframe\">\n",
       "  <thead>\n",
       "    <tr style=\"text-align: right;\">\n",
       "      <th></th>\n",
       "      <th>date</th>\n",
       "      <th>Airbnb_cost</th>\n",
       "    </tr>\n",
       "  </thead>\n",
       "  <tbody>\n",
       "    <tr>\n",
       "      <th>0</th>\n",
       "      <td>2018-12-15</td>\n",
       "      <td>148.333333</td>\n",
       "    </tr>\n",
       "    <tr>\n",
       "      <th>1</th>\n",
       "      <td>2018-12-16</td>\n",
       "      <td>147.250000</td>\n",
       "    </tr>\n",
       "    <tr>\n",
       "      <th>2</th>\n",
       "      <td>2018-12-17</td>\n",
       "      <td>147.000000</td>\n",
       "    </tr>\n",
       "    <tr>\n",
       "      <th>3</th>\n",
       "      <td>2018-12-18</td>\n",
       "      <td>147.500000</td>\n",
       "    </tr>\n",
       "    <tr>\n",
       "      <th>4</th>\n",
       "      <td>2018-12-19</td>\n",
       "      <td>150.000000</td>\n",
       "    </tr>\n",
       "  </tbody>\n",
       "</table>\n",
       "</div>"
      ],
      "text/plain": [
       "        date  Airbnb_cost\n",
       "0 2018-12-15   148.333333\n",
       "1 2018-12-16   147.250000\n",
       "2 2018-12-17   147.000000\n",
       "3 2018-12-18   147.500000\n",
       "4 2018-12-19   150.000000"
      ]
     },
     "execution_count": 10,
     "metadata": {},
     "output_type": "execute_result"
    }
   ],
   "source": [
    "flight_price = pd.read_csv('../../Data/VacationPlanner/flight_price.csv')\n",
    "\n",
    "# df['Madison'] = df['date'].apply(lambda x: flight_price.loc[str(x)[:10],'Madison'])\n",
    "\n",
    "df.head()"
   ]
  },
  {
   "cell_type": "code",
   "execution_count": null,
   "metadata": {},
   "outputs": [],
   "source": []
  }
 ],
 "metadata": {
  "kernelspec": {
   "display_name": "Python 3",
   "language": "python",
   "name": "python3"
  },
  "language_info": {
   "codemirror_mode": {
    "name": "ipython",
    "version": 3
   },
   "file_extension": ".py",
   "mimetype": "text/x-python",
   "name": "python",
   "nbconvert_exporter": "python",
   "pygments_lexer": "ipython3",
   "version": "3.6.6"
  }
 },
 "nbformat": 4,
 "nbformat_minor": 2
}
